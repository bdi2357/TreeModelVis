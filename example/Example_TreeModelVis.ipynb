{
  "nbformat": 4,
  "nbformat_minor": 0,
  "metadata": {
    "colab": {
      "provenance": []
    },
    "kernelspec": {
      "name": "python3",
      "display_name": "Python 3"
    },
    "language_info": {
      "name": "python"
    }
  },
  "cells": [
    {
      "cell_type": "code",
      "source": [
        "!git clone https://github.com/bdi2357/TreeModelVis.git"
      ],
      "metadata": {
        "colab": {
          "base_uri": "https://localhost:8080/"
        },
        "id": "ZV25Rk5iWp_0",
        "outputId": "7aa7d50a-1cb6-445d-f33e-fe52f295e17e"
      },
      "execution_count": 1,
      "outputs": [
        {
          "output_type": "stream",
          "name": "stdout",
          "text": [
            "Cloning into 'TreeModelVis'...\n",
            "remote: Enumerating objects: 156, done.\u001b[K\n",
            "remote: Counting objects: 100% (156/156), done.\u001b[K\n",
            "remote: Compressing objects: 100% (117/117), done.\u001b[K\n",
            "remote: Total 156 (delta 74), reused 115 (delta 35), pack-reused 0\u001b[K\n",
            "Receiving objects: 100% (156/156), 9.30 MiB | 11.73 MiB/s, done.\n",
            "Resolving deltas: 100% (74/74), done.\n"
          ]
        }
      ]
    },
    {
      "cell_type": "code",
      "source": [
        "!ls TreeModelVis/"
      ],
      "metadata": {
        "colab": {
          "base_uri": "https://localhost:8080/"
        },
        "id": "837VTp3bXWcL",
        "outputId": "79e0e783-c85b-4734-943b-be8d98ffac5b"
      },
      "execution_count": 2,
      "outputs": [
        {
          "output_type": "stream",
          "name": "stdout",
          "text": [
            "data  graphical_output\tLICENSE  README.md  requirements.txt  setup.py\tsource\ttests\n"
          ]
        }
      ]
    },
    {
      "cell_type": "code",
      "source": [
        "!cat TreeModelVis/requirements.txt"
      ],
      "metadata": {
        "colab": {
          "base_uri": "https://localhost:8080/"
        },
        "id": "52QhxIyTXbfY",
        "outputId": "e5be7ccc-0cfe-451b-f1b8-44299aa0cfb1"
      },
      "execution_count": 3,
      "outputs": [
        {
          "output_type": "stream",
          "name": "stdout",
          "text": [
            "graphviz==0.20.1\n",
            "numpy==1.26.3\n",
            "pandas==2.2.0\n",
            "scikit_learn==1.4.0"
          ]
        }
      ]
    },
    {
      "cell_type": "code",
      "source": [
        "!python -m venv myenv"
      ],
      "metadata": {
        "colab": {
          "base_uri": "https://localhost:8080/"
        },
        "id": "4kGUYBcTha2W",
        "outputId": "7ba71293-6482-461a-a435-f675ead59f2b"
      },
      "execution_count": 4,
      "outputs": [
        {
          "output_type": "stream",
          "name": "stdout",
          "text": [
            "The virtual environment was not created successfully because ensurepip is not\n",
            "available.  On Debian/Ubuntu systems, you need to install the python3-venv\n",
            "package using the following command.\n",
            "\n",
            "    apt install python3.10-venv\n",
            "\n",
            "You may need to use sudo with that command.  After installing the python3-venv\n",
            "package, recreate your virtual environment.\n",
            "\n",
            "Failing command: /content/myenv/bin/python3\n",
            "\n"
          ]
        }
      ]
    },
    {
      "cell_type": "code",
      "source": [
        "!cat TreeModelVis/requirements.txt"
      ],
      "metadata": {
        "colab": {
          "base_uri": "https://localhost:8080/"
        },
        "id": "JKK11W0Uvkth",
        "outputId": "7c75728d-32ac-4751-d466-ed1b9a6073c3"
      },
      "execution_count": 5,
      "outputs": [
        {
          "output_type": "stream",
          "name": "stdout",
          "text": [
            "graphviz==0.20.1\n",
            "numpy==1.26.3\n",
            "pandas==2.2.0\n",
            "scikit_learn==1.4.0"
          ]
        }
      ]
    },
    {
      "cell_type": "code",
      "source": [
        "#!pip install --force-reinstall numpy==1.26.3"
      ],
      "metadata": {
        "id": "BRPdu7imirQV"
      },
      "execution_count": 6,
      "outputs": []
    },
    {
      "cell_type": "code",
      "source": [
        "#!pip install --force-reinstall scikit_learn"
      ],
      "metadata": {
        "id": "wiMnh7vUvpQJ"
      },
      "execution_count": 7,
      "outputs": []
    },
    {
      "cell_type": "code",
      "source": [
        "import sys\n",
        "from sklearn.model_selection import train_test_split\n",
        "import pandas as pd\n",
        "import os\n",
        "\n",
        "sys.path.insert(0, os.path.abspath(os.path.join(\"TreeModelVis\", 'source')))\n",
        "\n",
        "from TreeModel import TreeModel"
      ],
      "metadata": {
        "id": "YSFAhvs9hp_8"
      },
      "execution_count": 8,
      "outputs": []
    },
    {
      "cell_type": "code",
      "source": [
        "!ls TreeModelVis/data/"
      ],
      "metadata": {
        "colab": {
          "base_uri": "https://localhost:8080/"
        },
        "id": "BAoShT1azKkA",
        "outputId": "6d5b89da-4e7b-4cb6-f168-7d3f207d10d6"
      },
      "execution_count": 9,
      "outputs": [
        {
          "output_type": "stream",
          "name": "stdout",
          "text": [
            "AsthmaDiseasePrediction.csv  diabetes.csv  HealthInsuranceCrossSellPrediction  smoking.csv\n"
          ]
        }
      ]
    },
    {
      "cell_type": "code",
      "source": [
        "file_path = 'TreeModelVis/data/diabetes.csv'\n",
        "df_diabetes = pd.read_csv(file_path)\n",
        "X_diabetes = df_diabetes.drop('Outcome', axis=1)\n",
        "y_diabetes = df_diabetes['Outcome']"
      ],
      "metadata": {
        "id": "k3vaab05wjxv"
      },
      "execution_count": 10,
      "outputs": []
    },
    {
      "cell_type": "code",
      "source": [
        "X_train_diabetes, X_test_diabetes, y_train_diabetes, y_test_diabetes = train_test_split(\n",
        "            X_diabetes, y_diabetes, test_size=0.2, random_state=42)"
      ],
      "metadata": {
        "id": "UGE9_WVkzXn-"
      },
      "execution_count": 11,
      "outputs": []
    },
    {
      "cell_type": "code",
      "source": [
        "class_names_diabetes = ['No', 'Yes']"
      ],
      "metadata": {
        "id": "1aSlwjzKz4-W"
      },
      "execution_count": 12,
      "outputs": []
    },
    {
      "cell_type": "code",
      "source": [
        "tree_model = TreeModel(\n",
        "            model_type='decision_tree',\n",
        "            model_params={'max_depth': 3},\n",
        "            X_train=X_train_diabetes,\n",
        "            y_train=y_train_diabetes,\n",
        "            class_names=class_names_diabetes\n",
        "        )"
      ],
      "metadata": {
        "colab": {
          "base_uri": "https://localhost:8080/"
        },
        "id": "qW-Z2oylzjc7",
        "outputId": "417e11cd-49ed-4665-94de-ee8a2ab19e03"
      },
      "execution_count": 13,
      "outputs": [
        {
          "output_type": "stream",
          "name": "stdout",
          "text": [
            "leaves\n",
            " {3: {'errors': 1, 'total': 124}, 7: {'errors': 58, 'total': 135}, 10: {'errors': 5, 'total': 36}, 11: {'errors': 11, 'total': 25}, 13: {'errors': 40, 'total': 108}, 4: {'errors': 16, 'total': 97}, 14: {'errors': 5, 'total': 55}, 6: {'errors': 1, 'total': 34}}\n"
          ]
        }
      ]
    },
    {
      "cell_type": "code",
      "source": [
        "filename = os.path.join(\"graphical_output\", \"test_TreeModel_diabetes\")\n",
        "output_path = tree_model.custom_plot_tree(filename=filename)\n",
        "print(output_path)"
      ],
      "metadata": {
        "colab": {
          "base_uri": "https://localhost:8080/"
        },
        "id": "Va_G6vUIz8ha",
        "outputId": "b7ebbee5-5740-41bf-b51a-61d18e9f0b01"
      },
      "execution_count": 14,
      "outputs": [
        {
          "output_type": "stream",
          "name": "stdout",
          "text": [
            "0 [label=<Glucose &le; 127.5<br/>614<br/>[401, 213]<br/>No>, fillcolor=\"#f3c4a2\"] ;\n",
            "after\n",
            "0 [label=<Glucose &le; 127.5>, fillcolor=white, original_fillcolor=\"#f3c4a2\"] ;\n",
            "############################################\n",
            "1 [label=<Age &le; 28.5<br/>390<br/>[314, 76]<br/>No>, fillcolor=\"#eb9f69\"] ;\n",
            "after\n",
            "1 [label=<Age &le; 28.5>, fillcolor=white, original_fillcolor=\"#eb9f69\"] ;\n",
            "############################################\n",
            "2 [label=<BMI &le; 30.95<br/>221<br/>[204, 17]<br/>No>, fillcolor=\"#e78c49\"] ;\n",
            "after\n",
            "2 [label=<BMI &le; 30.95>, fillcolor=white, original_fillcolor=\"#e78c49\"] ;\n",
            "############################################\n",
            "leaf\n",
            "3 [label=<124<br/>[123, 1]<br/>No>, fillcolor=\"#e5823b\"] ;\n",
            "leaf_AFTER\n",
            "3 [label=<No<br/>\n",
            "Error Rate: 0.01<br/>\n",
            " % of the total:20.20%>, fillcolor=\"#e5823b\"] ;\n",
            "leaf\n",
            "4 [label=<97<br/>[81, 16]<br/>No>, fillcolor=\"#ea9a60\"] ;\n",
            "leaf_AFTER\n",
            "4 [label=<No<br/>\n",
            "Error Rate: 0.16<br/>\n",
            " % of the total:15.80%>, fillcolor=\"#ea9a60\"] ;\n",
            "5 [label=<BMI &le; 26.35<br/>169<br/>[110, 59]<br/>No>, fillcolor=\"#f3c5a3\"] ;\n",
            "after\n",
            "5 [label=<BMI &le; 26.35>, fillcolor=white, original_fillcolor=\"#f3c5a3\"] ;\n",
            "############################################\n",
            "leaf\n",
            "6 [label=<34<br/>[33, 1]<br/>No>, fillcolor=\"#e6853f\"] ;\n",
            "leaf_AFTER\n",
            "6 [label=<No<br/>\n",
            "Error Rate: 0.03<br/>\n",
            " % of the total:5.54%>, fillcolor=\"#e6853f\"] ;\n",
            "leaf\n",
            "7 [label=<135<br/>[77, 58]<br/>No>, fillcolor=\"#f9e0ce\"] ;\n",
            "leaf_AFTER\n",
            "7 [label=<No<br/>\n",
            "Error Rate: 0.43<br/>\n",
            " % of the total:21.99%>, fillcolor=\"#f9e0ce\"] ;\n",
            "8 [label=<BMI &le; 29.95<br/>224<br/>[87, 137]<br/>Yes>, fillcolor=\"#b7dbf6\"] ;\n",
            "after\n",
            "8 [label=<BMI &le; 29.95>, fillcolor=white, original_fillcolor=\"#b7dbf6\"] ;\n",
            "############################################\n",
            "9 [label=<Glucose &le; 146.5<br/>61<br/>[42, 19]<br/>No>, fillcolor=\"#f1ba93\"] ;\n",
            "after\n",
            "9 [label=<Glucose &le; 146.5>, fillcolor=white, original_fillcolor=\"#f1ba93\"] ;\n",
            "############################################\n",
            "leaf\n",
            "10 [label=<36<br/>[31, 5]<br/>No>, fillcolor=\"#e99559\"] ;\n",
            "leaf_AFTER\n",
            "10 [label=<No<br/>\n",
            "Error Rate: 0.14<br/>\n",
            " % of the total:5.86%>, fillcolor=\"#e99559\"] ;\n",
            "leaf\n",
            "11 [label=<25<br/>[11, 14]<br/>Yes>, fillcolor=\"#d5eaf9\"] ;\n",
            "leaf_AFTER\n",
            "11 [label=<Yes<br/>\n",
            "Error Rate: 0.44<br/>\n",
            " % of the total:4.07%>, fillcolor=\"#d5eaf9\"] ;\n",
            "12 [label=<Glucose &le; 165.5<br/>163<br/>[45, 118]<br/>Yes>, fillcolor=\"#85c2ef\"] ;\n",
            "after\n",
            "12 [label=<Glucose &le; 165.5>, fillcolor=white, original_fillcolor=\"#85c2ef\"] ;\n",
            "############################################\n",
            "leaf\n",
            "13 [label=<108<br/>[40, 68]<br/>Yes>, fillcolor=\"#add7f4\"] ;\n",
            "leaf_AFTER\n",
            "13 [label=<Yes<br/>\n",
            "Error Rate: 0.37<br/>\n",
            " % of the total:17.59%>, fillcolor=\"#add7f4\"] ;\n",
            "leaf\n",
            "14 [label=<55<br/>[5, 50]<br/>Yes>, fillcolor=\"#4da7e8\"] ;\n",
            "leaf_AFTER\n",
            "14 [label=<Yes<br/>\n",
            "Error Rate: 0.09<br/>\n",
            " % of the total:8.96%>, fillcolor=\"#4da7e8\"] ;\n",
            "../graphical_output\n",
            "True\n",
            "file_path: ../graphical_output/graphical_output/test_TreeModel_diabetes\n",
            "../graphical_output/graphical_output/test_TreeModel_diabetes.png\n"
          ]
        }
      ]
    },
    {
      "cell_type": "code",
      "source": [
        "from IPython.display import display\n"
      ],
      "metadata": {
        "id": "5drQI8Dv2dPW"
      },
      "execution_count": 15,
      "outputs": []
    },
    {
      "cell_type": "code",
      "source": [
        "from tree_visualizer import visualize_decision_tree_with_errors\n",
        "from graphviz import Source"
      ],
      "metadata": {
        "id": "ok3UzH2m2v81"
      },
      "execution_count": 16,
      "outputs": []
    },
    {
      "cell_type": "code",
      "source": [
        "dot = visualize_decision_tree_with_errors(tree_model, X_test_diabetes, y_test_diabetes, feature_names = list(X_diabetes.columns), model_type = \"decision_tree\", class_names = class_names_diabetes)\n",
        "\n",
        "graph = Source(dot)"
      ],
      "metadata": {
        "colab": {
          "base_uri": "https://localhost:8080/"
        },
        "id": "Kr4-gvAI_Y0H",
        "outputId": "214710b6-019a-4525-9b83-c18a2ea3d699"
      },
      "execution_count": 17,
      "outputs": [
        {
          "output_type": "stream",
          "name": "stdout",
          "text": [
            "tree_model  11\n",
            "before\n",
            "0 [label=<Glucose &le; 127.5<br/><br/><br/><br/>class = No>, fillcolor=\"#f3c4a2\"] ;\n",
            "after\n",
            "0 [label=<Glucose &le; 127.5>, fillcolor=\"#f3c4a2\"] ;\n",
            "before\n",
            "1 [label=<Age &le; 28.5<br/><br/><br/><br/>class = No>, fillcolor=\"#eb9f69\"] ;\n",
            "after\n",
            "1 [label=<Age &le; 28.5>, fillcolor=\"#eb9f69\"] ;\n",
            "before\n",
            "2 [label=<BMI &le; 30.95<br/><br/><br/><br/>class = No>, fillcolor=\"#e78c49\"] ;\n",
            "after\n",
            "2 [label=<BMI &le; 30.95>, fillcolor=\"#e78c49\"] ;\n",
            "before\n",
            "3 [label=<<br/><br/><br/>class = No>, fillcolor=\"#e5823b\"] ;\n",
            "leaf\n",
            "3 [label=<<br/>class = No>, fillcolor=\"#e5823b\"] ;\n",
            "before\n",
            "4 [label=<<br/><br/><br/>class = No>, fillcolor=\"#ea9a60\"] ;\n",
            "leaf\n",
            "4 [label=<<br/>class = No>, fillcolor=\"#ea9a60\"] ;\n",
            "before\n",
            "5 [label=<BMI &le; 26.35<br/><br/><br/><br/>class = No>, fillcolor=\"#f3c5a3\"] ;\n",
            "after\n",
            "5 [label=<BMI &le; 26.35>, fillcolor=\"#f3c5a3\"] ;\n",
            "before\n",
            "6 [label=<<br/><br/><br/>class = No>, fillcolor=\"#e6853f\"] ;\n",
            "leaf\n",
            "6 [label=<<br/>class = No>, fillcolor=\"#e6853f\"] ;\n",
            "before\n",
            "7 [label=<<br/><br/><br/>class = No>, fillcolor=\"#f9e0ce\"] ;\n",
            "leaf\n",
            "7 [label=<<br/>class = No>, fillcolor=\"#f9e0ce\"] ;\n",
            "before\n",
            "8 [label=<BMI &le; 29.95<br/><br/><br/><br/>class = Yes>, fillcolor=\"#b7dbf6\"] ;\n",
            "after\n",
            "8 [label=<BMI &le; 29.95>, fillcolor=\"#b7dbf6\"] ;\n",
            "before\n",
            "9 [label=<Glucose &le; 146.5<br/><br/><br/><br/>class = No>, fillcolor=\"#f1ba93\"] ;\n",
            "after\n",
            "9 [label=<Glucose &le; 146.5>, fillcolor=\"#f1ba93\"] ;\n",
            "before\n",
            "10 [label=<<br/><br/><br/>class = No>, fillcolor=\"#e99559\"] ;\n",
            "leaf\n",
            "10 [label=<<br/>class = No>, fillcolor=\"#e99559\"] ;\n",
            "before\n",
            "11 [label=<<br/><br/><br/>class = Yes>, fillcolor=\"#d5eaf9\"] ;\n",
            "leaf\n",
            "11 [label=<<br/>class = Yes>, fillcolor=\"#d5eaf9\"] ;\n",
            "before\n",
            "12 [label=<Glucose &le; 165.5<br/><br/><br/><br/>class = Yes>, fillcolor=\"#85c2ef\"] ;\n",
            "after\n",
            "12 [label=<Glucose &le; 165.5>, fillcolor=\"#85c2ef\"] ;\n",
            "before\n",
            "13 [label=<<br/><br/><br/>class = Yes>, fillcolor=\"#add7f4\"] ;\n",
            "leaf\n",
            "13 [label=<<br/>class = Yes>, fillcolor=\"#add7f4\"] ;\n",
            "before\n",
            "14 [label=<<br/><br/><br/>class = Yes>, fillcolor=\"#4da7e8\"] ;\n",
            "leaf\n",
            "14 [label=<<br/>class = Yes>, fillcolor=\"#4da7e8\"] ;\n"
          ]
        }
      ]
    },
    {
      "cell_type": "code",
      "source": [
        "display(graph)"
      ],
      "metadata": {
        "colab": {
          "base_uri": "https://localhost:8080/",
          "height": 371
        },
        "id": "j2wlMUMPF2JX",
        "outputId": "57ef5133-1a67-4347-e971-7a8c80719fbb"
      },
      "execution_count": 18,
      "outputs": [
        {
          "output_type": "display_data",
          "data": {
            "image/svg+xml": "<?xml version=\"1.0\" encoding=\"UTF-8\" standalone=\"no\"?>\n<!DOCTYPE svg PUBLIC \"-//W3C//DTD SVG 1.1//EN\"\n \"http://www.w3.org/Graphics/SVG/1.1/DTD/svg11.dtd\">\n<!-- Generated by graphviz version 2.43.0 (0)\n -->\n<!-- Title: Tree Pages: 1 -->\n<svg width=\"1038pt\" height=\"262pt\"\n viewBox=\"0.00 0.00 1038.00 262.00\" xmlns=\"http://www.w3.org/2000/svg\" xmlns:xlink=\"http://www.w3.org/1999/xlink\">\n<g id=\"graph0\" class=\"graph\" transform=\"scale(1 1) rotate(0) translate(4 258)\">\n<title>Tree</title>\n<polygon fill=\"white\" stroke=\"transparent\" points=\"-4,4 -4,-258 1034,-258 1034,4 -4,4\"/>\n<!-- 0 -->\n<g id=\"node1\" class=\"node\">\n<title>0</title>\n<path fill=\"red\" stroke=\"black\" d=\"M560.5,-254C560.5,-254 468.5,-254 468.5,-254 462.5,-254 456.5,-248 456.5,-242 456.5,-242 456.5,-230 456.5,-230 456.5,-224 462.5,-218 468.5,-218 468.5,-218 560.5,-218 560.5,-218 566.5,-218 572.5,-224 572.5,-230 572.5,-230 572.5,-242 572.5,-242 572.5,-248 566.5,-254 560.5,-254\"/>\n<text text-anchor=\"start\" x=\"464.5\" y=\"-232.3\" font-family=\"Helvetica,sans-Serif\" font-size=\"14.00\">Glucose ≤ 127.5</text>\n</g>\n<!-- 1 -->\n<g id=\"node2\" class=\"node\">\n<title>1</title>\n<path fill=\"white\" stroke=\"black\" d=\"M412.5,-182C412.5,-182 354.5,-182 354.5,-182 348.5,-182 342.5,-176 342.5,-170 342.5,-170 342.5,-158 342.5,-158 342.5,-152 348.5,-146 354.5,-146 354.5,-146 412.5,-146 412.5,-146 418.5,-146 424.5,-152 424.5,-158 424.5,-158 424.5,-170 424.5,-170 424.5,-176 418.5,-182 412.5,-182\"/>\n<text text-anchor=\"start\" x=\"350.5\" y=\"-160.3\" font-family=\"Helvetica,sans-Serif\" font-size=\"14.00\">Age ≤ 28.5</text>\n</g>\n<!-- 0&#45;&gt;1 -->\n<g id=\"edge1\" class=\"edge\">\n<title>0&#45;&gt;1</title>\n<path fill=\"none\" stroke=\"black\" d=\"M482.45,-217.88C465.01,-208.55 443.23,-196.92 424.56,-186.94\"/>\n<polygon fill=\"black\" stroke=\"black\" points=\"426.14,-183.82 415.67,-182.19 422.84,-189.99 426.14,-183.82\"/>\n<text text-anchor=\"middle\" x=\"422.93\" y=\"-202.41\" font-family=\"Helvetica,sans-Serif\" font-size=\"14.00\">True</text>\n</g>\n<!-- 8 -->\n<g id=\"node9\" class=\"node\">\n<title>8</title>\n<path fill=\"red\" stroke=\"black\" d=\"M677.5,-182C677.5,-182 611.5,-182 611.5,-182 605.5,-182 599.5,-176 599.5,-170 599.5,-170 599.5,-158 599.5,-158 599.5,-152 605.5,-146 611.5,-146 611.5,-146 677.5,-146 677.5,-146 683.5,-146 689.5,-152 689.5,-158 689.5,-158 689.5,-170 689.5,-170 689.5,-176 683.5,-182 677.5,-182\"/>\n<text text-anchor=\"start\" x=\"607.5\" y=\"-160.3\" font-family=\"Helvetica,sans-Serif\" font-size=\"14.00\">BMI ≤ 29.95</text>\n</g>\n<!-- 0&#45;&gt;8 -->\n<g id=\"edge8\" class=\"edge\">\n<title>0&#45;&gt;8</title>\n<path fill=\"none\" stroke=\"black\" d=\"M546.3,-217.88C563.61,-208.55 585.22,-196.92 603.76,-186.94\"/>\n<polygon fill=\"black\" stroke=\"black\" points=\"605.43,-190.01 612.58,-182.19 602.11,-183.85 605.43,-190.01\"/>\n<text text-anchor=\"middle\" x=\"605.39\" y=\"-202.44\" font-family=\"Helvetica,sans-Serif\" font-size=\"14.00\">False</text>\n</g>\n<!-- 2 -->\n<g id=\"node3\" class=\"node\">\n<title>2</title>\n<path fill=\"white\" stroke=\"black\" d=\"M220.5,-110C220.5,-110 154.5,-110 154.5,-110 148.5,-110 142.5,-104 142.5,-98 142.5,-98 142.5,-86 142.5,-86 142.5,-80 148.5,-74 154.5,-74 154.5,-74 220.5,-74 220.5,-74 226.5,-74 232.5,-80 232.5,-86 232.5,-86 232.5,-98 232.5,-98 232.5,-104 226.5,-110 220.5,-110\"/>\n<text text-anchor=\"start\" x=\"150.5\" y=\"-88.3\" font-family=\"Helvetica,sans-Serif\" font-size=\"14.00\">BMI ≤ 30.95</text>\n</g>\n<!-- 1&#45;&gt;2 -->\n<g id=\"edge2\" class=\"edge\">\n<title>1&#45;&gt;2</title>\n<path fill=\"none\" stroke=\"black\" d=\"M342.41,-148.33C313.32,-137.93 273.98,-123.89 242.23,-112.55\"/>\n<polygon fill=\"black\" stroke=\"black\" points=\"243.23,-109.19 232.64,-109.12 240.88,-115.78 243.23,-109.19\"/>\n</g>\n<!-- 5 -->\n<g id=\"node6\" class=\"node\">\n<title>5</title>\n<path fill=\"white\" stroke=\"black\" d=\"M416.5,-110C416.5,-110 350.5,-110 350.5,-110 344.5,-110 338.5,-104 338.5,-98 338.5,-98 338.5,-86 338.5,-86 338.5,-80 344.5,-74 350.5,-74 350.5,-74 416.5,-74 416.5,-74 422.5,-74 428.5,-80 428.5,-86 428.5,-86 428.5,-98 428.5,-98 428.5,-104 422.5,-110 416.5,-110\"/>\n<text text-anchor=\"start\" x=\"346.5\" y=\"-88.3\" font-family=\"Helvetica,sans-Serif\" font-size=\"14.00\">BMI ≤ 26.35</text>\n</g>\n<!-- 1&#45;&gt;5 -->\n<g id=\"edge5\" class=\"edge\">\n<title>1&#45;&gt;5</title>\n<path fill=\"none\" stroke=\"black\" d=\"M383.5,-145.7C383.5,-137.98 383.5,-128.71 383.5,-120.11\"/>\n<polygon fill=\"black\" stroke=\"black\" points=\"387,-120.1 383.5,-110.1 380,-120.1 387,-120.1\"/>\n</g>\n<!-- 3 -->\n<g id=\"node4\" class=\"node\">\n<title>3</title>\n<path fill=\"white\" stroke=\"black\" d=\"M101,-38C101,-38 12,-38 12,-38 6,-38 0,-32 0,-26 0,-26 0,-12 0,-12 0,-6 6,0 12,0 12,0 101,0 101,0 107,0 113,-6 113,-12 113,-12 113,-26 113,-26 113,-32 107,-38 101,-38\"/>\n<text text-anchor=\"start\" x=\"47.5\" y=\"-22.8\" font-family=\"Helvetica,sans-Serif\" font-size=\"14.00\">No</text>\n<text text-anchor=\"start\" x=\"8\" y=\"-7.8\" font-family=\"Helvetica,sans-Serif\" font-size=\"14.00\">Error Rate: 0.01</text>\n</g>\n<!-- 2&#45;&gt;3 -->\n<g id=\"edge3\" class=\"edge\">\n<title>2&#45;&gt;3</title>\n<path fill=\"none\" stroke=\"black\" d=\"M156.12,-73.99C138.95,-64.69 117.43,-53.03 98.8,-42.92\"/>\n<polygon fill=\"black\" stroke=\"black\" points=\"100.37,-39.8 89.91,-38.11 97.04,-45.95 100.37,-39.8\"/>\n</g>\n<!-- 4 -->\n<g id=\"node5\" class=\"node\">\n<title>4</title>\n<path fill=\"white\" stroke=\"black\" d=\"M232,-38C232,-38 143,-38 143,-38 137,-38 131,-32 131,-26 131,-26 131,-12 131,-12 131,-6 137,0 143,0 143,0 232,0 232,0 238,0 244,-6 244,-12 244,-12 244,-26 244,-26 244,-32 238,-38 232,-38\"/>\n<text text-anchor=\"start\" x=\"178.5\" y=\"-22.8\" font-family=\"Helvetica,sans-Serif\" font-size=\"14.00\">No</text>\n<text text-anchor=\"start\" x=\"139\" y=\"-7.8\" font-family=\"Helvetica,sans-Serif\" font-size=\"14.00\">Error Rate: 0.16</text>\n</g>\n<!-- 2&#45;&gt;4 -->\n<g id=\"edge4\" class=\"edge\">\n<title>2&#45;&gt;4</title>\n<path fill=\"none\" stroke=\"black\" d=\"M187.5,-73.81C187.5,-66.11 187.5,-56.82 187.5,-48.15\"/>\n<polygon fill=\"black\" stroke=\"black\" points=\"191,-48.02 187.5,-38.02 184,-48.02 191,-48.02\"/>\n</g>\n<!-- 6 -->\n<g id=\"node7\" class=\"node\">\n<title>6</title>\n<path fill=\"white\" stroke=\"black\" d=\"M363,-38C363,-38 274,-38 274,-38 268,-38 262,-32 262,-26 262,-26 262,-12 262,-12 262,-6 268,0 274,0 274,0 363,0 363,0 369,0 375,-6 375,-12 375,-12 375,-26 375,-26 375,-32 369,-38 363,-38\"/>\n<text text-anchor=\"start\" x=\"309.5\" y=\"-22.8\" font-family=\"Helvetica,sans-Serif\" font-size=\"14.00\">No</text>\n<text text-anchor=\"start\" x=\"270\" y=\"-7.8\" font-family=\"Helvetica,sans-Serif\" font-size=\"14.00\">Error Rate: 0.03</text>\n</g>\n<!-- 5&#45;&gt;6 -->\n<g id=\"edge6\" class=\"edge\">\n<title>5&#45;&gt;6</title>\n<path fill=\"none\" stroke=\"black\" d=\"M367.77,-73.81C360.02,-65.35 350.52,-54.97 341.93,-45.6\"/>\n<polygon fill=\"black\" stroke=\"black\" points=\"344.33,-43.03 335,-38.02 339.17,-47.76 344.33,-43.03\"/>\n</g>\n<!-- 7 -->\n<g id=\"node8\" class=\"node\">\n<title>7</title>\n<path fill=\"white\" stroke=\"black\" d=\"M494,-38C494,-38 405,-38 405,-38 399,-38 393,-32 393,-26 393,-26 393,-12 393,-12 393,-6 399,0 405,0 405,0 494,0 494,0 500,0 506,-6 506,-12 506,-12 506,-26 506,-26 506,-32 500,-38 494,-38\"/>\n<text text-anchor=\"start\" x=\"440.5\" y=\"-22.8\" font-family=\"Helvetica,sans-Serif\" font-size=\"14.00\">No</text>\n<text text-anchor=\"start\" x=\"401\" y=\"-7.8\" font-family=\"Helvetica,sans-Serif\" font-size=\"14.00\">Error Rate: 0.43</text>\n</g>\n<!-- 5&#45;&gt;7 -->\n<g id=\"edge7\" class=\"edge\">\n<title>5&#45;&gt;7</title>\n<path fill=\"none\" stroke=\"black\" d=\"M399.48,-73.81C407.35,-65.35 416.99,-54.97 425.71,-45.6\"/>\n<polygon fill=\"black\" stroke=\"black\" points=\"428.5,-47.73 432.75,-38.02 423.38,-42.96 428.5,-47.73\"/>\n</g>\n<!-- 9 -->\n<g id=\"node10\" class=\"node\">\n<title>9</title>\n<path fill=\"red\" stroke=\"black\" d=\"M690.5,-110C690.5,-110 598.5,-110 598.5,-110 592.5,-110 586.5,-104 586.5,-98 586.5,-98 586.5,-86 586.5,-86 586.5,-80 592.5,-74 598.5,-74 598.5,-74 690.5,-74 690.5,-74 696.5,-74 702.5,-80 702.5,-86 702.5,-86 702.5,-98 702.5,-98 702.5,-104 696.5,-110 690.5,-110\"/>\n<text text-anchor=\"start\" x=\"594.5\" y=\"-88.3\" font-family=\"Helvetica,sans-Serif\" font-size=\"14.00\">Glucose ≤ 146.5</text>\n</g>\n<!-- 8&#45;&gt;9 -->\n<g id=\"edge9\" class=\"edge\">\n<title>8&#45;&gt;9</title>\n<path fill=\"none\" stroke=\"black\" d=\"M644.5,-145.7C644.5,-137.98 644.5,-128.71 644.5,-120.11\"/>\n<polygon fill=\"black\" stroke=\"black\" points=\"648,-120.1 644.5,-110.1 641,-120.1 648,-120.1\"/>\n</g>\n<!-- 12 -->\n<g id=\"node13\" class=\"node\">\n<title>12</title>\n<path fill=\"white\" stroke=\"black\" d=\"M888.5,-110C888.5,-110 796.5,-110 796.5,-110 790.5,-110 784.5,-104 784.5,-98 784.5,-98 784.5,-86 784.5,-86 784.5,-80 790.5,-74 796.5,-74 796.5,-74 888.5,-74 888.5,-74 894.5,-74 900.5,-80 900.5,-86 900.5,-86 900.5,-98 900.5,-98 900.5,-104 894.5,-110 888.5,-110\"/>\n<text text-anchor=\"start\" x=\"792.5\" y=\"-88.3\" font-family=\"Helvetica,sans-Serif\" font-size=\"14.00\">Glucose ≤ 165.5</text>\n</g>\n<!-- 8&#45;&gt;12 -->\n<g id=\"edge12\" class=\"edge\">\n<title>8&#45;&gt;12</title>\n<path fill=\"none\" stroke=\"black\" d=\"M689.93,-146.94C718.05,-137 754.43,-124.14 784.61,-113.47\"/>\n<polygon fill=\"black\" stroke=\"black\" points=\"785.91,-116.72 794.18,-110.08 783.58,-110.12 785.91,-116.72\"/>\n</g>\n<!-- 10 -->\n<g id=\"node11\" class=\"node\">\n<title>10</title>\n<path fill=\"white\" stroke=\"black\" d=\"M625,-38C625,-38 536,-38 536,-38 530,-38 524,-32 524,-26 524,-26 524,-12 524,-12 524,-6 530,0 536,0 536,0 625,0 625,0 631,0 637,-6 637,-12 637,-12 637,-26 637,-26 637,-32 631,-38 625,-38\"/>\n<text text-anchor=\"start\" x=\"571.5\" y=\"-22.8\" font-family=\"Helvetica,sans-Serif\" font-size=\"14.00\">No</text>\n<text text-anchor=\"start\" x=\"532\" y=\"-7.8\" font-family=\"Helvetica,sans-Serif\" font-size=\"14.00\">Error Rate: 0.14</text>\n</g>\n<!-- 9&#45;&gt;10 -->\n<g id=\"edge10\" class=\"edge\">\n<title>9&#45;&gt;10</title>\n<path fill=\"none\" stroke=\"black\" d=\"M629.01,-73.81C621.38,-65.35 612.02,-54.97 603.57,-45.6\"/>\n<polygon fill=\"black\" stroke=\"black\" points=\"606.04,-43.1 596.74,-38.02 600.84,-47.79 606.04,-43.1\"/>\n</g>\n<!-- 11 -->\n<g id=\"node12\" class=\"node\">\n<title>11</title>\n<path fill=\"red\" stroke=\"black\" d=\"M756,-38C756,-38 667,-38 667,-38 661,-38 655,-32 655,-26 655,-26 655,-12 655,-12 655,-6 661,0 667,0 667,0 756,0 756,0 762,0 768,-6 768,-12 768,-12 768,-26 768,-26 768,-32 762,-38 756,-38\"/>\n<text text-anchor=\"start\" x=\"700\" y=\"-22.8\" font-family=\"Helvetica,sans-Serif\" font-size=\"14.00\">Yes</text>\n<text text-anchor=\"start\" x=\"663\" y=\"-7.8\" font-family=\"Helvetica,sans-Serif\" font-size=\"14.00\">Error Rate: 0.44</text>\n</g>\n<!-- 9&#45;&gt;11 -->\n<g id=\"edge11\" class=\"edge\">\n<title>9&#45;&gt;11</title>\n<path fill=\"none\" stroke=\"black\" d=\"M660.72,-73.81C668.79,-65.26 678.7,-54.76 687.61,-45.31\"/>\n<polygon fill=\"black\" stroke=\"black\" points=\"690.18,-47.69 694.5,-38.02 685.09,-42.89 690.18,-47.69\"/>\n</g>\n<!-- 13 -->\n<g id=\"node14\" class=\"node\">\n<title>13</title>\n<path fill=\"white\" stroke=\"black\" d=\"M887,-38C887,-38 798,-38 798,-38 792,-38 786,-32 786,-26 786,-26 786,-12 786,-12 786,-6 792,0 798,0 798,0 887,0 887,0 893,0 899,-6 899,-12 899,-12 899,-26 899,-26 899,-32 893,-38 887,-38\"/>\n<text text-anchor=\"start\" x=\"831\" y=\"-22.8\" font-family=\"Helvetica,sans-Serif\" font-size=\"14.00\">Yes</text>\n<text text-anchor=\"start\" x=\"794\" y=\"-7.8\" font-family=\"Helvetica,sans-Serif\" font-size=\"14.00\">Error Rate: 0.37</text>\n</g>\n<!-- 12&#45;&gt;13 -->\n<g id=\"edge13\" class=\"edge\">\n<title>12&#45;&gt;13</title>\n<path fill=\"none\" stroke=\"black\" d=\"M842.5,-73.81C842.5,-66.11 842.5,-56.82 842.5,-48.15\"/>\n<polygon fill=\"black\" stroke=\"black\" points=\"846,-48.02 842.5,-38.02 839,-48.02 846,-48.02\"/>\n</g>\n<!-- 14 -->\n<g id=\"node15\" class=\"node\">\n<title>14</title>\n<path fill=\"white\" stroke=\"black\" d=\"M1018,-38C1018,-38 929,-38 929,-38 923,-38 917,-32 917,-26 917,-26 917,-12 917,-12 917,-6 923,0 929,0 929,0 1018,0 1018,0 1024,0 1030,-6 1030,-12 1030,-12 1030,-26 1030,-26 1030,-32 1024,-38 1018,-38\"/>\n<text text-anchor=\"start\" x=\"962\" y=\"-22.8\" font-family=\"Helvetica,sans-Serif\" font-size=\"14.00\">Yes</text>\n<text text-anchor=\"start\" x=\"925\" y=\"-7.8\" font-family=\"Helvetica,sans-Serif\" font-size=\"14.00\">Error Rate: 0.09</text>\n</g>\n<!-- 12&#45;&gt;14 -->\n<g id=\"edge14\" class=\"edge\">\n<title>12&#45;&gt;14</title>\n<path fill=\"none\" stroke=\"black\" d=\"M873.88,-73.99C891.05,-64.69 912.57,-53.03 931.2,-42.92\"/>\n<polygon fill=\"black\" stroke=\"black\" points=\"932.96,-45.95 940.09,-38.11 929.63,-39.8 932.96,-45.95\"/>\n</g>\n</g>\n</svg>\n",
            "text/plain": [
              "<graphviz.sources.Source at 0x7a9ad2c9df60>"
            ]
          },
          "metadata": {}
        }
      ]
    },
    {
      "cell_type": "code",
      "source": [
        "from tree_visualizer import visualize_decision_tree_with_nodes_large_error"
      ],
      "metadata": {
        "id": "Bnv3CR_YepvY"
      },
      "execution_count": 19,
      "outputs": []
    },
    {
      "cell_type": "code",
      "source": [
        "dot, paths = visualize_decision_tree_with_nodes_large_error(tree_model, X_test_diabetes, y_test_diabetes,feature_names=X_diabetes.columns.tolist(),class_names=['No', 'Yes'], max_error_rate=0.4)"
      ],
      "metadata": {
        "colab": {
          "base_uri": "https://localhost:8080/"
        },
        "id": "DEtyKm2sfBDg",
        "outputId": "8dac3230-adf0-48c0-8bc9-2fa8226038a8"
      },
      "execution_count": 20,
      "outputs": [
        {
          "output_type": "stream",
          "name": "stdout",
          "text": [
            "comapre\n",
            "dict_keys([3, 7, 10, 11, 13, 4, 14, 6])\n",
            "dict_keys([3, 7, 10, 11, 13, 4, 14, 6])\n",
            "leaf\n",
            "3 [label=<<br/>class = No>, fillcolor=\"#e5823b\"] ;\n",
            "3\n",
            "##################################################\n",
            "dict_keys([3, 7, 10, 11, 13, 4, 14, 6])\n",
            "dict_keys([3, 7, 10, 11, 13, 4, 14, 6])\n",
            "False\n",
            "True\n",
            "1\n",
            "27\n",
            "leaf\n",
            "4 [label=<<br/>class = No>, fillcolor=\"#ea9a60\"] ;\n",
            "4\n",
            "##################################################\n",
            "dict_keys([3, 7, 10, 11, 13, 4, 14, 6])\n",
            "dict_keys([3, 7, 10, 11, 13, 4, 14, 6])\n",
            "False\n",
            "True\n",
            "5\n",
            "23\n",
            "leaf\n",
            "6 [label=<<br/>class = No>, fillcolor=\"#e6853f\"] ;\n",
            "6\n",
            "##################################################\n",
            "dict_keys([3, 7, 10, 11, 13, 4, 14, 6])\n",
            "dict_keys([3, 7, 10, 11, 13, 4, 14, 6])\n",
            "False\n",
            "True\n",
            "1\n",
            "7\n",
            "leaf\n",
            "7 [label=<<br/>class = No>, fillcolor=\"#f9e0ce\"] ;\n",
            "7\n",
            "##################################################\n",
            "dict_keys([3, 7, 10, 11, 13, 4, 14, 6])\n",
            "dict_keys([3, 7, 10, 11, 13, 4, 14, 6])\n",
            "False\n",
            "True\n",
            "11\n",
            "38\n",
            "leaf\n",
            "10 [label=<<br/>class = No>, fillcolor=\"#e99559\"] ;\n",
            "10\n",
            "##################################################\n",
            "dict_keys([3, 7, 10, 11, 13, 4, 14, 6])\n",
            "dict_keys([3, 7, 10, 11, 13, 4, 14, 6])\n",
            "False\n",
            "True\n",
            "3\n",
            "9\n",
            "leaf\n",
            "11 [label=<<br/>class = Yes>, fillcolor=\"#d5eaf9\"] ;\n",
            "11\n",
            "##################################################\n",
            "dict_keys([3, 7, 10, 11, 13, 4, 14, 6])\n",
            "dict_keys([3, 7, 10, 11, 13, 4, 14, 6])\n",
            "False\n",
            "True\n",
            "4\n",
            "6\n",
            "line_err\n",
            "11 [label=<Yes<br/>\n",
            "Train Error Rate: 0.44<br/>\n",
            "Test Error Rate: 0.67>, fillcolor=red, original_fillcolor=\"#d5eaf9\"] ;\n",
            "leaf\n",
            "13 [label=<<br/>class = Yes>, fillcolor=\"#add7f4\"] ;\n",
            "13\n",
            "##################################################\n",
            "dict_keys([3, 7, 10, 11, 13, 4, 14, 6])\n",
            "dict_keys([3, 7, 10, 11, 13, 4, 14, 6])\n",
            "False\n",
            "True\n",
            "10\n",
            "31\n",
            "leaf\n",
            "14 [label=<<br/>class = Yes>, fillcolor=\"#4da7e8\"] ;\n",
            "14\n",
            "##################################################\n",
            "dict_keys([3, 7, 10, 11, 13, 4, 14, 6])\n",
            "dict_keys([3, 7, 10, 11, 13, 4, 14, 6])\n",
            "False\n",
            "True\n",
            "2\n",
            "13\n",
            "before\n",
            "0 [label=<Glucose &le; 127.5<br/><br/><br/><br/>class = No>, fillcolor=\"#f3c4a2\"] ;\n",
            "after\n",
            "0 [label=<Glucose &le; 127.5>, fillcolor=\"#f3c4a2\"] ;\n",
            "before\n",
            "1 [label=<Age &le; 28.5<br/><br/><br/><br/>class = No>, fillcolor=\"#eb9f69\"] ;\n",
            "after\n",
            "1 [label=<Age &le; 28.5>, fillcolor=\"#eb9f69\"] ;\n",
            "before\n",
            "2 [label=<BMI &le; 30.95<br/><br/><br/><br/>class = No>, fillcolor=\"#e78c49\"] ;\n",
            "after\n",
            "2 [label=<BMI &le; 30.95>, fillcolor=\"#e78c49\"] ;\n",
            "before\n",
            "3 [label=<<br/><br/><br/>class = No>, fillcolor=\"#e5823b\"] ;\n",
            "leaf\n",
            "3 [label=<<br/>class = No>, fillcolor=\"#e5823b\"] ;\n",
            "before\n",
            "4 [label=<<br/><br/><br/>class = No>, fillcolor=\"#ea9a60\"] ;\n",
            "leaf\n",
            "4 [label=<<br/>class = No>, fillcolor=\"#ea9a60\"] ;\n",
            "before\n",
            "5 [label=<BMI &le; 26.35<br/><br/><br/><br/>class = No>, fillcolor=\"#f3c5a3\"] ;\n",
            "after\n",
            "5 [label=<BMI &le; 26.35>, fillcolor=\"#f3c5a3\"] ;\n",
            "before\n",
            "6 [label=<<br/><br/><br/>class = No>, fillcolor=\"#e6853f\"] ;\n",
            "leaf\n",
            "6 [label=<<br/>class = No>, fillcolor=\"#e6853f\"] ;\n",
            "before\n",
            "7 [label=<<br/><br/><br/>class = No>, fillcolor=\"#f9e0ce\"] ;\n",
            "leaf\n",
            "7 [label=<<br/>class = No>, fillcolor=\"#f9e0ce\"] ;\n",
            "before\n",
            "8 [label=<BMI &le; 29.95<br/><br/><br/><br/>class = Yes>, fillcolor=\"#b7dbf6\"] ;\n",
            "after\n",
            "8 [label=<BMI &le; 29.95>, fillcolor=\"#b7dbf6\"] ;\n",
            "before\n",
            "9 [label=<Glucose &le; 146.5<br/><br/><br/><br/>class = No>, fillcolor=\"#f1ba93\"] ;\n",
            "after\n",
            "9 [label=<Glucose &le; 146.5>, fillcolor=\"#f1ba93\"] ;\n",
            "before\n",
            "10 [label=<<br/><br/><br/>class = No>, fillcolor=\"#e99559\"] ;\n",
            "leaf\n",
            "10 [label=<<br/>class = No>, fillcolor=\"#e99559\"] ;\n",
            "before\n",
            "11 [label=<<br/><br/><br/>class = Yes>, fillcolor=\"#d5eaf9\"] ;\n",
            "leaf\n",
            "11 [label=<<br/>class = Yes>, fillcolor=\"#d5eaf9\"] ;\n",
            "before\n",
            "12 [label=<Glucose &le; 165.5<br/><br/><br/><br/>class = Yes>, fillcolor=\"#85c2ef\"] ;\n",
            "after\n",
            "12 [label=<Glucose &le; 165.5>, fillcolor=\"#85c2ef\"] ;\n",
            "before\n",
            "13 [label=<<br/><br/><br/>class = Yes>, fillcolor=\"#add7f4\"] ;\n",
            "leaf\n",
            "13 [label=<<br/>class = Yes>, fillcolor=\"#add7f4\"] ;\n",
            "before\n",
            "14 [label=<<br/><br/><br/>class = Yes>, fillcolor=\"#4da7e8\"] ;\n",
            "leaf\n",
            "14 [label=<<br/>class = Yes>, fillcolor=\"#4da7e8\"] ;\n"
          ]
        }
      ]
    },
    {
      "cell_type": "code",
      "source": [
        "graph = Source(dot)\n",
        "display(graph)"
      ],
      "metadata": {
        "colab": {
          "base_uri": "https://localhost:8080/",
          "height": 391
        },
        "id": "jGcW1eZkfoDw",
        "outputId": "b6b49586-3f24-44e3-a46b-d07feb56f93a"
      },
      "execution_count": 21,
      "outputs": [
        {
          "output_type": "display_data",
          "data": {
            "image/svg+xml": "<?xml version=\"1.0\" encoding=\"UTF-8\" standalone=\"no\"?>\n<!DOCTYPE svg PUBLIC \"-//W3C//DTD SVG 1.1//EN\"\n \"http://www.w3.org/Graphics/SVG/1.1/DTD/svg11.dtd\">\n<!-- Generated by graphviz version 2.43.0 (0)\n -->\n<!-- Title: Tree Pages: 1 -->\n<svg width=\"1310pt\" height=\"277pt\"\n viewBox=\"0.00 0.00 1310.00 277.00\" xmlns=\"http://www.w3.org/2000/svg\" xmlns:xlink=\"http://www.w3.org/1999/xlink\">\n<g id=\"graph0\" class=\"graph\" transform=\"scale(1 1) rotate(0) translate(4 273)\">\n<title>Tree</title>\n<polygon fill=\"white\" stroke=\"transparent\" points=\"-4,4 -4,-273 1306,-273 1306,4 -4,4\"/>\n<!-- 0 -->\n<g id=\"node1\" class=\"node\">\n<title>0</title>\n<path fill=\"white\" stroke=\"black\" d=\"M696.5,-269C696.5,-269 604.5,-269 604.5,-269 598.5,-269 592.5,-263 592.5,-257 592.5,-257 592.5,-245 592.5,-245 592.5,-239 598.5,-233 604.5,-233 604.5,-233 696.5,-233 696.5,-233 702.5,-233 708.5,-239 708.5,-245 708.5,-245 708.5,-257 708.5,-257 708.5,-263 702.5,-269 696.5,-269\"/>\n<text text-anchor=\"start\" x=\"600.5\" y=\"-247.3\" font-family=\"Helvetica,sans-Serif\" font-size=\"14.00\">Glucose ≤ 127.5</text>\n</g>\n<!-- 1 -->\n<g id=\"node2\" class=\"node\">\n<title>1</title>\n<path fill=\"white\" stroke=\"black\" d=\"M514.5,-197C514.5,-197 456.5,-197 456.5,-197 450.5,-197 444.5,-191 444.5,-185 444.5,-185 444.5,-173 444.5,-173 444.5,-167 450.5,-161 456.5,-161 456.5,-161 514.5,-161 514.5,-161 520.5,-161 526.5,-167 526.5,-173 526.5,-173 526.5,-185 526.5,-185 526.5,-191 520.5,-197 514.5,-197\"/>\n<text text-anchor=\"start\" x=\"452.5\" y=\"-175.3\" font-family=\"Helvetica,sans-Serif\" font-size=\"14.00\">Age ≤ 28.5</text>\n</g>\n<!-- 0&#45;&gt;1 -->\n<g id=\"edge1\" class=\"edge\">\n<title>0&#45;&gt;1</title>\n<path fill=\"none\" stroke=\"black\" d=\"M610.14,-232.88C587.48,-223.26 559.03,-211.19 535.03,-201.01\"/>\n<polygon fill=\"black\" stroke=\"black\" points=\"536.31,-197.75 525.73,-197.07 533.57,-204.2 536.31,-197.75\"/>\n<text text-anchor=\"middle\" x=\"535.1\" y=\"-216.55\" font-family=\"Helvetica,sans-Serif\" font-size=\"14.00\">True</text>\n</g>\n<!-- 8 -->\n<g id=\"node9\" class=\"node\">\n<title>8</title>\n<path fill=\"white\" stroke=\"black\" d=\"M848.5,-197C848.5,-197 782.5,-197 782.5,-197 776.5,-197 770.5,-191 770.5,-185 770.5,-185 770.5,-173 770.5,-173 770.5,-167 776.5,-161 782.5,-161 782.5,-161 848.5,-161 848.5,-161 854.5,-161 860.5,-167 860.5,-173 860.5,-173 860.5,-185 860.5,-185 860.5,-191 854.5,-197 848.5,-197\"/>\n<text text-anchor=\"start\" x=\"778.5\" y=\"-175.3\" font-family=\"Helvetica,sans-Serif\" font-size=\"14.00\">BMI ≤ 29.95</text>\n</g>\n<!-- 0&#45;&gt;8 -->\n<g id=\"edge8\" class=\"edge\">\n<title>0&#45;&gt;8</title>\n<path fill=\"none\" stroke=\"black\" d=\"M690.86,-232.88C713.52,-223.26 741.97,-211.19 765.97,-201.01\"/>\n<polygon fill=\"black\" stroke=\"black\" points=\"767.43,-204.2 775.27,-197.07 764.69,-197.75 767.43,-204.2\"/>\n<text text-anchor=\"middle\" x=\"765.9\" y=\"-216.55\" font-family=\"Helvetica,sans-Serif\" font-size=\"14.00\">False</text>\n</g>\n<!-- 2 -->\n<g id=\"node3\" class=\"node\">\n<title>2</title>\n<path fill=\"white\" stroke=\"black\" d=\"M271.5,-125C271.5,-125 205.5,-125 205.5,-125 199.5,-125 193.5,-119 193.5,-113 193.5,-113 193.5,-101 193.5,-101 193.5,-95 199.5,-89 205.5,-89 205.5,-89 271.5,-89 271.5,-89 277.5,-89 283.5,-95 283.5,-101 283.5,-101 283.5,-113 283.5,-113 283.5,-119 277.5,-125 271.5,-125\"/>\n<text text-anchor=\"start\" x=\"201.5\" y=\"-103.3\" font-family=\"Helvetica,sans-Serif\" font-size=\"14.00\">BMI ≤ 30.95</text>\n</g>\n<!-- 1&#45;&gt;2 -->\n<g id=\"edge2\" class=\"edge\">\n<title>1&#45;&gt;2</title>\n<path fill=\"none\" stroke=\"black\" d=\"M444.44,-166.36C403.16,-154.66 339.26,-136.56 293.6,-123.61\"/>\n<polygon fill=\"black\" stroke=\"black\" points=\"294.43,-120.21 283.85,-120.85 292.52,-126.95 294.43,-120.21\"/>\n</g>\n<!-- 5 -->\n<g id=\"node6\" class=\"node\">\n<title>5</title>\n<path fill=\"white\" stroke=\"black\" d=\"M518.5,-125C518.5,-125 452.5,-125 452.5,-125 446.5,-125 440.5,-119 440.5,-113 440.5,-113 440.5,-101 440.5,-101 440.5,-95 446.5,-89 452.5,-89 452.5,-89 518.5,-89 518.5,-89 524.5,-89 530.5,-95 530.5,-101 530.5,-101 530.5,-113 530.5,-113 530.5,-119 524.5,-125 518.5,-125\"/>\n<text text-anchor=\"start\" x=\"448.5\" y=\"-103.3\" font-family=\"Helvetica,sans-Serif\" font-size=\"14.00\">BMI ≤ 26.35</text>\n</g>\n<!-- 1&#45;&gt;5 -->\n<g id=\"edge5\" class=\"edge\">\n<title>1&#45;&gt;5</title>\n<path fill=\"none\" stroke=\"black\" d=\"M485.5,-160.7C485.5,-152.98 485.5,-143.71 485.5,-135.11\"/>\n<polygon fill=\"black\" stroke=\"black\" points=\"489,-135.1 485.5,-125.1 482,-135.1 489,-135.1\"/>\n</g>\n<!-- 3 -->\n<g id=\"node4\" class=\"node\">\n<title>3</title>\n<path fill=\"white\" stroke=\"black\" d=\"M135,-53C135,-53 12,-53 12,-53 6,-53 0,-47 0,-41 0,-41 0,-12 0,-12 0,-6 6,0 12,0 12,0 135,0 135,0 141,0 147,-6 147,-12 147,-12 147,-41 147,-41 147,-47 141,-53 135,-53\"/>\n<text text-anchor=\"start\" x=\"64.5\" y=\"-37.8\" font-family=\"Helvetica,sans-Serif\" font-size=\"14.00\">No</text>\n<text text-anchor=\"start\" x=\"8\" y=\"-22.8\" font-family=\"Helvetica,sans-Serif\" font-size=\"14.00\">Train Error Rate: 0.01</text>\n<text text-anchor=\"start\" x=\"11\" y=\"-7.8\" font-family=\"Helvetica,sans-Serif\" font-size=\"14.00\">Test Error Rate: 0.04</text>\n</g>\n<!-- 2&#45;&gt;3 -->\n<g id=\"edge3\" class=\"edge\">\n<title>2&#45;&gt;3</title>\n<path fill=\"none\" stroke=\"black\" d=\"M202.7,-88.97C183.29,-79.73 158.74,-68.05 136.26,-57.36\"/>\n<polygon fill=\"black\" stroke=\"black\" points=\"137.64,-54.14 127.11,-53 134.63,-60.46 137.64,-54.14\"/>\n</g>\n<!-- 4 -->\n<g id=\"node5\" class=\"node\">\n<title>4</title>\n<path fill=\"white\" stroke=\"black\" d=\"M300,-53C300,-53 177,-53 177,-53 171,-53 165,-47 165,-41 165,-41 165,-12 165,-12 165,-6 171,0 177,0 177,0 300,0 300,0 306,0 312,-6 312,-12 312,-12 312,-41 312,-41 312,-47 306,-53 300,-53\"/>\n<text text-anchor=\"start\" x=\"229.5\" y=\"-37.8\" font-family=\"Helvetica,sans-Serif\" font-size=\"14.00\">No</text>\n<text text-anchor=\"start\" x=\"173\" y=\"-22.8\" font-family=\"Helvetica,sans-Serif\" font-size=\"14.00\">Train Error Rate: 0.16</text>\n<text text-anchor=\"start\" x=\"176\" y=\"-7.8\" font-family=\"Helvetica,sans-Serif\" font-size=\"14.00\">Test Error Rate: 0.22</text>\n</g>\n<!-- 2&#45;&gt;4 -->\n<g id=\"edge4\" class=\"edge\">\n<title>2&#45;&gt;4</title>\n<path fill=\"none\" stroke=\"black\" d=\"M238.5,-88.97C238.5,-81.45 238.5,-72.31 238.5,-63.4\"/>\n<polygon fill=\"black\" stroke=\"black\" points=\"242,-63.16 238.5,-53.16 235,-63.16 242,-63.16\"/>\n</g>\n<!-- 6 -->\n<g id=\"node7\" class=\"node\">\n<title>6</title>\n<path fill=\"white\" stroke=\"black\" d=\"M465,-53C465,-53 342,-53 342,-53 336,-53 330,-47 330,-41 330,-41 330,-12 330,-12 330,-6 336,0 342,0 342,0 465,0 465,0 471,0 477,-6 477,-12 477,-12 477,-41 477,-41 477,-47 471,-53 465,-53\"/>\n<text text-anchor=\"start\" x=\"394.5\" y=\"-37.8\" font-family=\"Helvetica,sans-Serif\" font-size=\"14.00\">No</text>\n<text text-anchor=\"start\" x=\"338\" y=\"-22.8\" font-family=\"Helvetica,sans-Serif\" font-size=\"14.00\">Train Error Rate: 0.03</text>\n<text text-anchor=\"start\" x=\"341\" y=\"-7.8\" font-family=\"Helvetica,sans-Serif\" font-size=\"14.00\">Test Error Rate: 0.14</text>\n</g>\n<!-- 5&#45;&gt;6 -->\n<g id=\"edge6\" class=\"edge\">\n<title>5&#45;&gt;6</title>\n<path fill=\"none\" stroke=\"black\" d=\"M467.71,-88.97C458.91,-80.55 448,-70.1 437.67,-60.21\"/>\n<polygon fill=\"black\" stroke=\"black\" points=\"439.94,-57.54 430.3,-53.16 435.1,-62.6 439.94,-57.54\"/>\n</g>\n<!-- 7 -->\n<g id=\"node8\" class=\"node\">\n<title>7</title>\n<path fill=\"white\" stroke=\"black\" d=\"M630,-53C630,-53 507,-53 507,-53 501,-53 495,-47 495,-41 495,-41 495,-12 495,-12 495,-6 501,0 507,0 507,0 630,0 630,0 636,0 642,-6 642,-12 642,-12 642,-41 642,-41 642,-47 636,-53 630,-53\"/>\n<text text-anchor=\"start\" x=\"559.5\" y=\"-37.8\" font-family=\"Helvetica,sans-Serif\" font-size=\"14.00\">No</text>\n<text text-anchor=\"start\" x=\"503\" y=\"-22.8\" font-family=\"Helvetica,sans-Serif\" font-size=\"14.00\">Train Error Rate: 0.43</text>\n<text text-anchor=\"start\" x=\"506\" y=\"-7.8\" font-family=\"Helvetica,sans-Serif\" font-size=\"14.00\">Test Error Rate: 0.29</text>\n</g>\n<!-- 5&#45;&gt;7 -->\n<g id=\"edge7\" class=\"edge\">\n<title>5&#45;&gt;7</title>\n<path fill=\"none\" stroke=\"black\" d=\"M503.51,-88.97C512.41,-80.55 523.46,-70.1 533.91,-60.21\"/>\n<polygon fill=\"black\" stroke=\"black\" points=\"536.51,-62.57 541.37,-53.16 531.7,-57.48 536.51,-62.57\"/>\n</g>\n<!-- 9 -->\n<g id=\"node10\" class=\"node\">\n<title>9</title>\n<path fill=\"white\" stroke=\"black\" d=\"M861.5,-125C861.5,-125 769.5,-125 769.5,-125 763.5,-125 757.5,-119 757.5,-113 757.5,-113 757.5,-101 757.5,-101 757.5,-95 763.5,-89 769.5,-89 769.5,-89 861.5,-89 861.5,-89 867.5,-89 873.5,-95 873.5,-101 873.5,-101 873.5,-113 873.5,-113 873.5,-119 867.5,-125 861.5,-125\"/>\n<text text-anchor=\"start\" x=\"765.5\" y=\"-103.3\" font-family=\"Helvetica,sans-Serif\" font-size=\"14.00\">Glucose ≤ 146.5</text>\n</g>\n<!-- 8&#45;&gt;9 -->\n<g id=\"edge9\" class=\"edge\">\n<title>8&#45;&gt;9</title>\n<path fill=\"none\" stroke=\"black\" d=\"M815.5,-160.7C815.5,-152.98 815.5,-143.71 815.5,-135.11\"/>\n<polygon fill=\"black\" stroke=\"black\" points=\"819,-135.1 815.5,-125.1 812,-135.1 819,-135.1\"/>\n</g>\n<!-- 12 -->\n<g id=\"node13\" class=\"node\">\n<title>12</title>\n<path fill=\"white\" stroke=\"black\" d=\"M1109.5,-125C1109.5,-125 1017.5,-125 1017.5,-125 1011.5,-125 1005.5,-119 1005.5,-113 1005.5,-113 1005.5,-101 1005.5,-101 1005.5,-95 1011.5,-89 1017.5,-89 1017.5,-89 1109.5,-89 1109.5,-89 1115.5,-89 1121.5,-95 1121.5,-101 1121.5,-101 1121.5,-113 1121.5,-113 1121.5,-119 1115.5,-125 1109.5,-125\"/>\n<text text-anchor=\"start\" x=\"1013.5\" y=\"-103.3\" font-family=\"Helvetica,sans-Serif\" font-size=\"14.00\">Glucose ≤ 165.5</text>\n</g>\n<!-- 8&#45;&gt;12 -->\n<g id=\"edge12\" class=\"edge\">\n<title>8&#45;&gt;12</title>\n<path fill=\"none\" stroke=\"black\" d=\"M860.7,-165.24C898.42,-154.6 952.74,-139.26 995.68,-127.14\"/>\n<polygon fill=\"black\" stroke=\"black\" points=\"996.82,-130.46 1005.49,-124.37 994.91,-123.72 996.82,-130.46\"/>\n</g>\n<!-- 10 -->\n<g id=\"node11\" class=\"node\">\n<title>10</title>\n<path fill=\"white\" stroke=\"black\" d=\"M795,-53C795,-53 672,-53 672,-53 666,-53 660,-47 660,-41 660,-41 660,-12 660,-12 660,-6 666,0 672,0 672,0 795,0 795,0 801,0 807,-6 807,-12 807,-12 807,-41 807,-41 807,-47 801,-53 795,-53\"/>\n<text text-anchor=\"start\" x=\"724.5\" y=\"-37.8\" font-family=\"Helvetica,sans-Serif\" font-size=\"14.00\">No</text>\n<text text-anchor=\"start\" x=\"668\" y=\"-22.8\" font-family=\"Helvetica,sans-Serif\" font-size=\"14.00\">Train Error Rate: 0.14</text>\n<text text-anchor=\"start\" x=\"671\" y=\"-7.8\" font-family=\"Helvetica,sans-Serif\" font-size=\"14.00\">Test Error Rate: 0.33</text>\n</g>\n<!-- 9&#45;&gt;10 -->\n<g id=\"edge10\" class=\"edge\">\n<title>9&#45;&gt;10</title>\n<path fill=\"none\" stroke=\"black\" d=\"M797.71,-88.97C788.91,-80.55 778,-70.1 767.67,-60.21\"/>\n<polygon fill=\"black\" stroke=\"black\" points=\"769.94,-57.54 760.3,-53.16 765.1,-62.6 769.94,-57.54\"/>\n</g>\n<!-- 11 -->\n<g id=\"node12\" class=\"node\">\n<title>11</title>\n<path fill=\"red\" stroke=\"black\" d=\"M960,-53C960,-53 837,-53 837,-53 831,-53 825,-47 825,-41 825,-41 825,-12 825,-12 825,-6 831,0 837,0 837,0 960,0 960,0 966,0 972,-6 972,-12 972,-12 972,-41 972,-41 972,-47 966,-53 960,-53\"/>\n<text text-anchor=\"start\" x=\"887\" y=\"-37.8\" font-family=\"Helvetica,sans-Serif\" font-size=\"14.00\">Yes</text>\n<text text-anchor=\"start\" x=\"833\" y=\"-22.8\" font-family=\"Helvetica,sans-Serif\" font-size=\"14.00\">Train Error Rate: 0.44</text>\n<text text-anchor=\"start\" x=\"836\" y=\"-7.8\" font-family=\"Helvetica,sans-Serif\" font-size=\"14.00\">Test Error Rate: 0.67</text>\n</g>\n<!-- 9&#45;&gt;11 -->\n<g id=\"edge11\" class=\"edge\">\n<title>9&#45;&gt;11</title>\n<path fill=\"none\" stroke=\"black\" d=\"M833.51,-88.97C842.41,-80.55 853.46,-70.1 863.91,-60.21\"/>\n<polygon fill=\"black\" stroke=\"black\" points=\"866.51,-62.57 871.37,-53.16 861.7,-57.48 866.51,-62.57\"/>\n</g>\n<!-- 13 -->\n<g id=\"node14\" class=\"node\">\n<title>13</title>\n<path fill=\"white\" stroke=\"black\" d=\"M1125,-53C1125,-53 1002,-53 1002,-53 996,-53 990,-47 990,-41 990,-41 990,-12 990,-12 990,-6 996,0 1002,0 1002,0 1125,0 1125,0 1131,0 1137,-6 1137,-12 1137,-12 1137,-41 1137,-41 1137,-47 1131,-53 1125,-53\"/>\n<text text-anchor=\"start\" x=\"1052\" y=\"-37.8\" font-family=\"Helvetica,sans-Serif\" font-size=\"14.00\">Yes</text>\n<text text-anchor=\"start\" x=\"998\" y=\"-22.8\" font-family=\"Helvetica,sans-Serif\" font-size=\"14.00\">Train Error Rate: 0.37</text>\n<text text-anchor=\"start\" x=\"1001\" y=\"-7.8\" font-family=\"Helvetica,sans-Serif\" font-size=\"14.00\">Test Error Rate: 0.32</text>\n</g>\n<!-- 12&#45;&gt;13 -->\n<g id=\"edge13\" class=\"edge\">\n<title>12&#45;&gt;13</title>\n<path fill=\"none\" stroke=\"black\" d=\"M1063.5,-88.97C1063.5,-81.45 1063.5,-72.31 1063.5,-63.4\"/>\n<polygon fill=\"black\" stroke=\"black\" points=\"1067,-63.16 1063.5,-53.16 1060,-63.16 1067,-63.16\"/>\n</g>\n<!-- 14 -->\n<g id=\"node15\" class=\"node\">\n<title>14</title>\n<path fill=\"white\" stroke=\"black\" d=\"M1290,-53C1290,-53 1167,-53 1167,-53 1161,-53 1155,-47 1155,-41 1155,-41 1155,-12 1155,-12 1155,-6 1161,0 1167,0 1167,0 1290,0 1290,0 1296,0 1302,-6 1302,-12 1302,-12 1302,-41 1302,-41 1302,-47 1296,-53 1290,-53\"/>\n<text text-anchor=\"start\" x=\"1217\" y=\"-37.8\" font-family=\"Helvetica,sans-Serif\" font-size=\"14.00\">Yes</text>\n<text text-anchor=\"start\" x=\"1163\" y=\"-22.8\" font-family=\"Helvetica,sans-Serif\" font-size=\"14.00\">Train Error Rate: 0.09</text>\n<text text-anchor=\"start\" x=\"1166\" y=\"-7.8\" font-family=\"Helvetica,sans-Serif\" font-size=\"14.00\">Test Error Rate: 0.15</text>\n</g>\n<!-- 12&#45;&gt;14 -->\n<g id=\"edge14\" class=\"edge\">\n<title>12&#45;&gt;14</title>\n<path fill=\"none\" stroke=\"black\" d=\"M1099.3,-88.97C1118.71,-79.73 1143.26,-68.05 1165.74,-57.36\"/>\n<polygon fill=\"black\" stroke=\"black\" points=\"1167.37,-60.46 1174.89,-53 1164.36,-54.14 1167.37,-60.46\"/>\n</g>\n</g>\n</svg>\n",
            "text/plain": [
              "<graphviz.sources.Source at 0x7a9ad2c9ec20>"
            ]
          },
          "metadata": {}
        }
      ]
    },
    {
      "cell_type": "code",
      "source": [
        "dot, paths = visualize_decision_tree_with_nodes_large_error(tree_model, X_test_diabetes, y_test_diabetes,feature_names=X_diabetes.columns.tolist(),class_names=['No', 'Yes'], max_error_rate=0.1, relative=True)"
      ],
      "metadata": {
        "colab": {
          "base_uri": "https://localhost:8080/"
        },
        "id": "bPOfbQXU_fsh",
        "outputId": "b3c5703f-2fb0-4b47-834a-d56be55ebdde"
      },
      "execution_count": 22,
      "outputs": [
        {
          "output_type": "stream",
          "name": "stdout",
          "text": [
            "comapre\n",
            "dict_keys([3, 7, 10, 11, 13, 4, 14, 6])\n",
            "dict_keys([3, 7, 10, 11, 13, 4, 14, 6])\n",
            "leaf\n",
            "3 [label=<<br/>class = No>, fillcolor=\"#e5823b\"] ;\n",
            "3\n",
            "##################################################\n",
            "dict_keys([3, 7, 10, 11, 13, 4, 14, 6])\n",
            "dict_keys([3, 7, 10, 11, 13, 4, 14, 6])\n",
            "False\n",
            "True\n",
            "1\n",
            "27\n",
            "leaf\n",
            "4 [label=<<br/>class = No>, fillcolor=\"#ea9a60\"] ;\n",
            "4\n",
            "##################################################\n",
            "dict_keys([3, 7, 10, 11, 13, 4, 14, 6])\n",
            "dict_keys([3, 7, 10, 11, 13, 4, 14, 6])\n",
            "False\n",
            "True\n",
            "5\n",
            "23\n",
            "leaf\n",
            "6 [label=<<br/>class = No>, fillcolor=\"#e6853f\"] ;\n",
            "6\n",
            "##################################################\n",
            "dict_keys([3, 7, 10, 11, 13, 4, 14, 6])\n",
            "dict_keys([3, 7, 10, 11, 13, 4, 14, 6])\n",
            "False\n",
            "True\n",
            "1\n",
            "7\n",
            "line_err\n",
            "6 [label=<No<br/>\n",
            "Train Error Rate: 0.03<br/>\n",
            "Test Error Rate: 0.14>, fillcolor=red, original_fillcolor=\"#e6853f\"] ;\n",
            "leaf\n",
            "7 [label=<<br/>class = No>, fillcolor=\"#f9e0ce\"] ;\n",
            "7\n",
            "##################################################\n",
            "dict_keys([3, 7, 10, 11, 13, 4, 14, 6])\n",
            "dict_keys([3, 7, 10, 11, 13, 4, 14, 6])\n",
            "False\n",
            "True\n",
            "11\n",
            "38\n",
            "leaf\n",
            "10 [label=<<br/>class = No>, fillcolor=\"#e99559\"] ;\n",
            "10\n",
            "##################################################\n",
            "dict_keys([3, 7, 10, 11, 13, 4, 14, 6])\n",
            "dict_keys([3, 7, 10, 11, 13, 4, 14, 6])\n",
            "False\n",
            "True\n",
            "3\n",
            "9\n",
            "line_err\n",
            "10 [label=<No<br/>\n",
            "Train Error Rate: 0.14<br/>\n",
            "Test Error Rate: 0.33>, fillcolor=red, original_fillcolor=\"#e99559\"] ;\n",
            "leaf\n",
            "11 [label=<<br/>class = Yes>, fillcolor=\"#d5eaf9\"] ;\n",
            "11\n",
            "##################################################\n",
            "dict_keys([3, 7, 10, 11, 13, 4, 14, 6])\n",
            "dict_keys([3, 7, 10, 11, 13, 4, 14, 6])\n",
            "False\n",
            "True\n",
            "4\n",
            "6\n",
            "line_err\n",
            "11 [label=<Yes<br/>\n",
            "Train Error Rate: 0.44<br/>\n",
            "Test Error Rate: 0.67>, fillcolor=red, original_fillcolor=\"#d5eaf9\"] ;\n",
            "leaf\n",
            "13 [label=<<br/>class = Yes>, fillcolor=\"#add7f4\"] ;\n",
            "13\n",
            "##################################################\n",
            "dict_keys([3, 7, 10, 11, 13, 4, 14, 6])\n",
            "dict_keys([3, 7, 10, 11, 13, 4, 14, 6])\n",
            "False\n",
            "True\n",
            "10\n",
            "31\n",
            "leaf\n",
            "14 [label=<<br/>class = Yes>, fillcolor=\"#4da7e8\"] ;\n",
            "14\n",
            "##################################################\n",
            "dict_keys([3, 7, 10, 11, 13, 4, 14, 6])\n",
            "dict_keys([3, 7, 10, 11, 13, 4, 14, 6])\n",
            "False\n",
            "True\n",
            "2\n",
            "13\n",
            "before\n",
            "0 [label=<Glucose &le; 127.5<br/><br/><br/><br/>class = No>, fillcolor=\"#f3c4a2\"] ;\n",
            "after\n",
            "0 [label=<Glucose &le; 127.5>, fillcolor=\"#f3c4a2\"] ;\n",
            "before\n",
            "1 [label=<Age &le; 28.5<br/><br/><br/><br/>class = No>, fillcolor=\"#eb9f69\"] ;\n",
            "after\n",
            "1 [label=<Age &le; 28.5>, fillcolor=\"#eb9f69\"] ;\n",
            "before\n",
            "2 [label=<BMI &le; 30.95<br/><br/><br/><br/>class = No>, fillcolor=\"#e78c49\"] ;\n",
            "after\n",
            "2 [label=<BMI &le; 30.95>, fillcolor=\"#e78c49\"] ;\n",
            "before\n",
            "3 [label=<<br/><br/><br/>class = No>, fillcolor=\"#e5823b\"] ;\n",
            "leaf\n",
            "3 [label=<<br/>class = No>, fillcolor=\"#e5823b\"] ;\n",
            "before\n",
            "4 [label=<<br/><br/><br/>class = No>, fillcolor=\"#ea9a60\"] ;\n",
            "leaf\n",
            "4 [label=<<br/>class = No>, fillcolor=\"#ea9a60\"] ;\n",
            "before\n",
            "5 [label=<BMI &le; 26.35<br/><br/><br/><br/>class = No>, fillcolor=\"#f3c5a3\"] ;\n",
            "after\n",
            "5 [label=<BMI &le; 26.35>, fillcolor=\"#f3c5a3\"] ;\n",
            "before\n",
            "6 [label=<<br/><br/><br/>class = No>, fillcolor=\"#e6853f\"] ;\n",
            "leaf\n",
            "6 [label=<<br/>class = No>, fillcolor=\"#e6853f\"] ;\n",
            "before\n",
            "7 [label=<<br/><br/><br/>class = No>, fillcolor=\"#f9e0ce\"] ;\n",
            "leaf\n",
            "7 [label=<<br/>class = No>, fillcolor=\"#f9e0ce\"] ;\n",
            "before\n",
            "8 [label=<BMI &le; 29.95<br/><br/><br/><br/>class = Yes>, fillcolor=\"#b7dbf6\"] ;\n",
            "after\n",
            "8 [label=<BMI &le; 29.95>, fillcolor=\"#b7dbf6\"] ;\n",
            "before\n",
            "9 [label=<Glucose &le; 146.5<br/><br/><br/><br/>class = No>, fillcolor=\"#f1ba93\"] ;\n",
            "after\n",
            "9 [label=<Glucose &le; 146.5>, fillcolor=\"#f1ba93\"] ;\n",
            "before\n",
            "10 [label=<<br/><br/><br/>class = No>, fillcolor=\"#e99559\"] ;\n",
            "leaf\n",
            "10 [label=<<br/>class = No>, fillcolor=\"#e99559\"] ;\n",
            "before\n",
            "11 [label=<<br/><br/><br/>class = Yes>, fillcolor=\"#d5eaf9\"] ;\n",
            "leaf\n",
            "11 [label=<<br/>class = Yes>, fillcolor=\"#d5eaf9\"] ;\n",
            "before\n",
            "12 [label=<Glucose &le; 165.5<br/><br/><br/><br/>class = Yes>, fillcolor=\"#85c2ef\"] ;\n",
            "after\n",
            "12 [label=<Glucose &le; 165.5>, fillcolor=\"#85c2ef\"] ;\n",
            "before\n",
            "13 [label=<<br/><br/><br/>class = Yes>, fillcolor=\"#add7f4\"] ;\n",
            "leaf\n",
            "13 [label=<<br/>class = Yes>, fillcolor=\"#add7f4\"] ;\n",
            "before\n",
            "14 [label=<<br/><br/><br/>class = Yes>, fillcolor=\"#4da7e8\"] ;\n",
            "leaf\n",
            "14 [label=<<br/>class = Yes>, fillcolor=\"#4da7e8\"] ;\n",
            "before\n",
            "0 [label=<Glucose &le; 127.5<br/><br/><br/><br/>class = No>, fillcolor=\"#f3c4a2\"] ;\n",
            "after\n",
            "0 [label=<Glucose &le; 127.5>, fillcolor=\"#f3c4a2\"] ;\n",
            "before\n",
            "1 [label=<Age &le; 28.5<br/><br/><br/><br/>class = No>, fillcolor=\"#eb9f69\"] ;\n",
            "after\n",
            "1 [label=<Age &le; 28.5>, fillcolor=\"#eb9f69\"] ;\n",
            "before\n",
            "2 [label=<BMI &le; 30.95<br/><br/><br/><br/>class = No>, fillcolor=\"#e78c49\"] ;\n",
            "after\n",
            "2 [label=<BMI &le; 30.95>, fillcolor=\"#e78c49\"] ;\n",
            "before\n",
            "3 [label=<<br/><br/><br/>class = No>, fillcolor=\"#e5823b\"] ;\n",
            "leaf\n",
            "3 [label=<<br/>class = No>, fillcolor=\"#e5823b\"] ;\n",
            "before\n",
            "4 [label=<<br/><br/><br/>class = No>, fillcolor=\"#ea9a60\"] ;\n",
            "leaf\n",
            "4 [label=<<br/>class = No>, fillcolor=\"#ea9a60\"] ;\n",
            "before\n",
            "5 [label=<BMI &le; 26.35<br/><br/><br/><br/>class = No>, fillcolor=\"#f3c5a3\"] ;\n",
            "after\n",
            "5 [label=<BMI &le; 26.35>, fillcolor=\"#f3c5a3\"] ;\n",
            "before\n",
            "6 [label=<<br/><br/><br/>class = No>, fillcolor=\"#e6853f\"] ;\n",
            "leaf\n",
            "6 [label=<<br/>class = No>, fillcolor=\"#e6853f\"] ;\n",
            "before\n",
            "7 [label=<<br/><br/><br/>class = No>, fillcolor=\"#f9e0ce\"] ;\n",
            "leaf\n",
            "7 [label=<<br/>class = No>, fillcolor=\"#f9e0ce\"] ;\n",
            "before\n",
            "8 [label=<BMI &le; 29.95<br/><br/><br/><br/>class = Yes>, fillcolor=\"#b7dbf6\"] ;\n",
            "after\n",
            "8 [label=<BMI &le; 29.95>, fillcolor=\"#b7dbf6\"] ;\n",
            "before\n",
            "9 [label=<Glucose &le; 146.5<br/><br/><br/><br/>class = No>, fillcolor=\"#f1ba93\"] ;\n",
            "after\n",
            "9 [label=<Glucose &le; 146.5>, fillcolor=\"#f1ba93\"] ;\n",
            "before\n",
            "10 [label=<<br/><br/><br/>class = No>, fillcolor=\"#e99559\"] ;\n",
            "leaf\n",
            "10 [label=<<br/>class = No>, fillcolor=\"#e99559\"] ;\n",
            "before\n",
            "11 [label=<<br/><br/><br/>class = Yes>, fillcolor=\"#d5eaf9\"] ;\n",
            "leaf\n",
            "11 [label=<<br/>class = Yes>, fillcolor=\"#d5eaf9\"] ;\n",
            "before\n",
            "12 [label=<Glucose &le; 165.5<br/><br/><br/><br/>class = Yes>, fillcolor=\"#85c2ef\"] ;\n",
            "after\n",
            "12 [label=<Glucose &le; 165.5>, fillcolor=\"#85c2ef\"] ;\n",
            "before\n",
            "13 [label=<<br/><br/><br/>class = Yes>, fillcolor=\"#add7f4\"] ;\n",
            "leaf\n",
            "13 [label=<<br/>class = Yes>, fillcolor=\"#add7f4\"] ;\n",
            "before\n",
            "14 [label=<<br/><br/><br/>class = Yes>, fillcolor=\"#4da7e8\"] ;\n",
            "leaf\n",
            "14 [label=<<br/>class = Yes>, fillcolor=\"#4da7e8\"] ;\n",
            "before\n",
            "0 [label=<Glucose &le; 127.5<br/><br/><br/><br/>class = No>, fillcolor=\"#f3c4a2\"] ;\n",
            "after\n",
            "0 [label=<Glucose &le; 127.5>, fillcolor=\"#f3c4a2\"] ;\n",
            "before\n",
            "1 [label=<Age &le; 28.5<br/><br/><br/><br/>class = No>, fillcolor=\"#eb9f69\"] ;\n",
            "after\n",
            "1 [label=<Age &le; 28.5>, fillcolor=\"#eb9f69\"] ;\n",
            "before\n",
            "2 [label=<BMI &le; 30.95<br/><br/><br/><br/>class = No>, fillcolor=\"#e78c49\"] ;\n",
            "after\n",
            "2 [label=<BMI &le; 30.95>, fillcolor=\"#e78c49\"] ;\n",
            "before\n",
            "3 [label=<<br/><br/><br/>class = No>, fillcolor=\"#e5823b\"] ;\n",
            "leaf\n",
            "3 [label=<<br/>class = No>, fillcolor=\"#e5823b\"] ;\n",
            "before\n",
            "4 [label=<<br/><br/><br/>class = No>, fillcolor=\"#ea9a60\"] ;\n",
            "leaf\n",
            "4 [label=<<br/>class = No>, fillcolor=\"#ea9a60\"] ;\n",
            "before\n",
            "5 [label=<BMI &le; 26.35<br/><br/><br/><br/>class = No>, fillcolor=\"#f3c5a3\"] ;\n",
            "after\n",
            "5 [label=<BMI &le; 26.35>, fillcolor=\"#f3c5a3\"] ;\n",
            "before\n",
            "6 [label=<<br/><br/><br/>class = No>, fillcolor=\"#e6853f\"] ;\n",
            "leaf\n",
            "6 [label=<<br/>class = No>, fillcolor=\"#e6853f\"] ;\n",
            "before\n",
            "7 [label=<<br/><br/><br/>class = No>, fillcolor=\"#f9e0ce\"] ;\n",
            "leaf\n",
            "7 [label=<<br/>class = No>, fillcolor=\"#f9e0ce\"] ;\n",
            "before\n",
            "8 [label=<BMI &le; 29.95<br/><br/><br/><br/>class = Yes>, fillcolor=\"#b7dbf6\"] ;\n",
            "after\n",
            "8 [label=<BMI &le; 29.95>, fillcolor=\"#b7dbf6\"] ;\n",
            "before\n",
            "9 [label=<Glucose &le; 146.5<br/><br/><br/><br/>class = No>, fillcolor=\"#f1ba93\"] ;\n",
            "after\n",
            "9 [label=<Glucose &le; 146.5>, fillcolor=\"#f1ba93\"] ;\n",
            "before\n",
            "10 [label=<<br/><br/><br/>class = No>, fillcolor=\"#e99559\"] ;\n",
            "leaf\n",
            "10 [label=<<br/>class = No>, fillcolor=\"#e99559\"] ;\n",
            "before\n",
            "11 [label=<<br/><br/><br/>class = Yes>, fillcolor=\"#d5eaf9\"] ;\n",
            "leaf\n",
            "11 [label=<<br/>class = Yes>, fillcolor=\"#d5eaf9\"] ;\n",
            "before\n",
            "12 [label=<Glucose &le; 165.5<br/><br/><br/><br/>class = Yes>, fillcolor=\"#85c2ef\"] ;\n",
            "after\n",
            "12 [label=<Glucose &le; 165.5>, fillcolor=\"#85c2ef\"] ;\n",
            "before\n",
            "13 [label=<<br/><br/><br/>class = Yes>, fillcolor=\"#add7f4\"] ;\n",
            "leaf\n",
            "13 [label=<<br/>class = Yes>, fillcolor=\"#add7f4\"] ;\n",
            "before\n",
            "14 [label=<<br/><br/><br/>class = Yes>, fillcolor=\"#4da7e8\"] ;\n",
            "leaf\n",
            "14 [label=<<br/>class = Yes>, fillcolor=\"#4da7e8\"] ;\n"
          ]
        }
      ]
    },
    {
      "cell_type": "code",
      "source": [
        "graph = Source(dot)\n",
        "display(graph)"
      ],
      "metadata": {
        "colab": {
          "base_uri": "https://localhost:8080/",
          "height": 391
        },
        "id": "68ypIxF0GKm1",
        "outputId": "1ed57a4d-0edf-4e91-b5c2-38210ed0ea2b"
      },
      "execution_count": 23,
      "outputs": [
        {
          "output_type": "display_data",
          "data": {
            "image/svg+xml": "<?xml version=\"1.0\" encoding=\"UTF-8\" standalone=\"no\"?>\n<!DOCTYPE svg PUBLIC \"-//W3C//DTD SVG 1.1//EN\"\n \"http://www.w3.org/Graphics/SVG/1.1/DTD/svg11.dtd\">\n<!-- Generated by graphviz version 2.43.0 (0)\n -->\n<!-- Title: Tree Pages: 1 -->\n<svg width=\"1310pt\" height=\"277pt\"\n viewBox=\"0.00 0.00 1310.00 277.00\" xmlns=\"http://www.w3.org/2000/svg\" xmlns:xlink=\"http://www.w3.org/1999/xlink\">\n<g id=\"graph0\" class=\"graph\" transform=\"scale(1 1) rotate(0) translate(4 273)\">\n<title>Tree</title>\n<polygon fill=\"white\" stroke=\"transparent\" points=\"-4,4 -4,-273 1306,-273 1306,4 -4,4\"/>\n<!-- 0 -->\n<g id=\"node1\" class=\"node\">\n<title>0</title>\n<path fill=\"white\" stroke=\"black\" d=\"M696.5,-269C696.5,-269 604.5,-269 604.5,-269 598.5,-269 592.5,-263 592.5,-257 592.5,-257 592.5,-245 592.5,-245 592.5,-239 598.5,-233 604.5,-233 604.5,-233 696.5,-233 696.5,-233 702.5,-233 708.5,-239 708.5,-245 708.5,-245 708.5,-257 708.5,-257 708.5,-263 702.5,-269 696.5,-269\"/>\n<text text-anchor=\"start\" x=\"600.5\" y=\"-247.3\" font-family=\"Helvetica,sans-Serif\" font-size=\"14.00\">Glucose ≤ 127.5</text>\n</g>\n<!-- 1 -->\n<g id=\"node2\" class=\"node\">\n<title>1</title>\n<path fill=\"white\" stroke=\"black\" d=\"M514.5,-197C514.5,-197 456.5,-197 456.5,-197 450.5,-197 444.5,-191 444.5,-185 444.5,-185 444.5,-173 444.5,-173 444.5,-167 450.5,-161 456.5,-161 456.5,-161 514.5,-161 514.5,-161 520.5,-161 526.5,-167 526.5,-173 526.5,-173 526.5,-185 526.5,-185 526.5,-191 520.5,-197 514.5,-197\"/>\n<text text-anchor=\"start\" x=\"452.5\" y=\"-175.3\" font-family=\"Helvetica,sans-Serif\" font-size=\"14.00\">Age ≤ 28.5</text>\n</g>\n<!-- 0&#45;&gt;1 -->\n<g id=\"edge1\" class=\"edge\">\n<title>0&#45;&gt;1</title>\n<path fill=\"none\" stroke=\"black\" d=\"M610.14,-232.88C587.48,-223.26 559.03,-211.19 535.03,-201.01\"/>\n<polygon fill=\"black\" stroke=\"black\" points=\"536.31,-197.75 525.73,-197.07 533.57,-204.2 536.31,-197.75\"/>\n<text text-anchor=\"middle\" x=\"535.1\" y=\"-216.55\" font-family=\"Helvetica,sans-Serif\" font-size=\"14.00\">True</text>\n</g>\n<!-- 8 -->\n<g id=\"node9\" class=\"node\">\n<title>8</title>\n<path fill=\"white\" stroke=\"black\" d=\"M848.5,-197C848.5,-197 782.5,-197 782.5,-197 776.5,-197 770.5,-191 770.5,-185 770.5,-185 770.5,-173 770.5,-173 770.5,-167 776.5,-161 782.5,-161 782.5,-161 848.5,-161 848.5,-161 854.5,-161 860.5,-167 860.5,-173 860.5,-173 860.5,-185 860.5,-185 860.5,-191 854.5,-197 848.5,-197\"/>\n<text text-anchor=\"start\" x=\"778.5\" y=\"-175.3\" font-family=\"Helvetica,sans-Serif\" font-size=\"14.00\">BMI ≤ 29.95</text>\n</g>\n<!-- 0&#45;&gt;8 -->\n<g id=\"edge8\" class=\"edge\">\n<title>0&#45;&gt;8</title>\n<path fill=\"none\" stroke=\"black\" d=\"M690.86,-232.88C713.52,-223.26 741.97,-211.19 765.97,-201.01\"/>\n<polygon fill=\"black\" stroke=\"black\" points=\"767.43,-204.2 775.27,-197.07 764.69,-197.75 767.43,-204.2\"/>\n<text text-anchor=\"middle\" x=\"765.9\" y=\"-216.55\" font-family=\"Helvetica,sans-Serif\" font-size=\"14.00\">False</text>\n</g>\n<!-- 2 -->\n<g id=\"node3\" class=\"node\">\n<title>2</title>\n<path fill=\"white\" stroke=\"black\" d=\"M271.5,-125C271.5,-125 205.5,-125 205.5,-125 199.5,-125 193.5,-119 193.5,-113 193.5,-113 193.5,-101 193.5,-101 193.5,-95 199.5,-89 205.5,-89 205.5,-89 271.5,-89 271.5,-89 277.5,-89 283.5,-95 283.5,-101 283.5,-101 283.5,-113 283.5,-113 283.5,-119 277.5,-125 271.5,-125\"/>\n<text text-anchor=\"start\" x=\"201.5\" y=\"-103.3\" font-family=\"Helvetica,sans-Serif\" font-size=\"14.00\">BMI ≤ 30.95</text>\n</g>\n<!-- 1&#45;&gt;2 -->\n<g id=\"edge2\" class=\"edge\">\n<title>1&#45;&gt;2</title>\n<path fill=\"none\" stroke=\"black\" d=\"M444.44,-166.36C403.16,-154.66 339.26,-136.56 293.6,-123.61\"/>\n<polygon fill=\"black\" stroke=\"black\" points=\"294.43,-120.21 283.85,-120.85 292.52,-126.95 294.43,-120.21\"/>\n</g>\n<!-- 5 -->\n<g id=\"node6\" class=\"node\">\n<title>5</title>\n<path fill=\"white\" stroke=\"black\" d=\"M518.5,-125C518.5,-125 452.5,-125 452.5,-125 446.5,-125 440.5,-119 440.5,-113 440.5,-113 440.5,-101 440.5,-101 440.5,-95 446.5,-89 452.5,-89 452.5,-89 518.5,-89 518.5,-89 524.5,-89 530.5,-95 530.5,-101 530.5,-101 530.5,-113 530.5,-113 530.5,-119 524.5,-125 518.5,-125\"/>\n<text text-anchor=\"start\" x=\"448.5\" y=\"-103.3\" font-family=\"Helvetica,sans-Serif\" font-size=\"14.00\">BMI ≤ 26.35</text>\n</g>\n<!-- 1&#45;&gt;5 -->\n<g id=\"edge5\" class=\"edge\">\n<title>1&#45;&gt;5</title>\n<path fill=\"none\" stroke=\"black\" d=\"M485.5,-160.7C485.5,-152.98 485.5,-143.71 485.5,-135.11\"/>\n<polygon fill=\"black\" stroke=\"black\" points=\"489,-135.1 485.5,-125.1 482,-135.1 489,-135.1\"/>\n</g>\n<!-- 3 -->\n<g id=\"node4\" class=\"node\">\n<title>3</title>\n<path fill=\"white\" stroke=\"black\" d=\"M135,-53C135,-53 12,-53 12,-53 6,-53 0,-47 0,-41 0,-41 0,-12 0,-12 0,-6 6,0 12,0 12,0 135,0 135,0 141,0 147,-6 147,-12 147,-12 147,-41 147,-41 147,-47 141,-53 135,-53\"/>\n<text text-anchor=\"start\" x=\"64.5\" y=\"-37.8\" font-family=\"Helvetica,sans-Serif\" font-size=\"14.00\">No</text>\n<text text-anchor=\"start\" x=\"8\" y=\"-22.8\" font-family=\"Helvetica,sans-Serif\" font-size=\"14.00\">Train Error Rate: 0.01</text>\n<text text-anchor=\"start\" x=\"11\" y=\"-7.8\" font-family=\"Helvetica,sans-Serif\" font-size=\"14.00\">Test Error Rate: 0.04</text>\n</g>\n<!-- 2&#45;&gt;3 -->\n<g id=\"edge3\" class=\"edge\">\n<title>2&#45;&gt;3</title>\n<path fill=\"none\" stroke=\"black\" d=\"M202.7,-88.97C183.29,-79.73 158.74,-68.05 136.26,-57.36\"/>\n<polygon fill=\"black\" stroke=\"black\" points=\"137.64,-54.14 127.11,-53 134.63,-60.46 137.64,-54.14\"/>\n</g>\n<!-- 4 -->\n<g id=\"node5\" class=\"node\">\n<title>4</title>\n<path fill=\"white\" stroke=\"black\" d=\"M300,-53C300,-53 177,-53 177,-53 171,-53 165,-47 165,-41 165,-41 165,-12 165,-12 165,-6 171,0 177,0 177,0 300,0 300,0 306,0 312,-6 312,-12 312,-12 312,-41 312,-41 312,-47 306,-53 300,-53\"/>\n<text text-anchor=\"start\" x=\"229.5\" y=\"-37.8\" font-family=\"Helvetica,sans-Serif\" font-size=\"14.00\">No</text>\n<text text-anchor=\"start\" x=\"173\" y=\"-22.8\" font-family=\"Helvetica,sans-Serif\" font-size=\"14.00\">Train Error Rate: 0.16</text>\n<text text-anchor=\"start\" x=\"176\" y=\"-7.8\" font-family=\"Helvetica,sans-Serif\" font-size=\"14.00\">Test Error Rate: 0.22</text>\n</g>\n<!-- 2&#45;&gt;4 -->\n<g id=\"edge4\" class=\"edge\">\n<title>2&#45;&gt;4</title>\n<path fill=\"none\" stroke=\"black\" d=\"M238.5,-88.97C238.5,-81.45 238.5,-72.31 238.5,-63.4\"/>\n<polygon fill=\"black\" stroke=\"black\" points=\"242,-63.16 238.5,-53.16 235,-63.16 242,-63.16\"/>\n</g>\n<!-- 6 -->\n<g id=\"node7\" class=\"node\">\n<title>6</title>\n<path fill=\"red\" stroke=\"black\" d=\"M465,-53C465,-53 342,-53 342,-53 336,-53 330,-47 330,-41 330,-41 330,-12 330,-12 330,-6 336,0 342,0 342,0 465,0 465,0 471,0 477,-6 477,-12 477,-12 477,-41 477,-41 477,-47 471,-53 465,-53\"/>\n<text text-anchor=\"start\" x=\"394.5\" y=\"-37.8\" font-family=\"Helvetica,sans-Serif\" font-size=\"14.00\">No</text>\n<text text-anchor=\"start\" x=\"338\" y=\"-22.8\" font-family=\"Helvetica,sans-Serif\" font-size=\"14.00\">Train Error Rate: 0.03</text>\n<text text-anchor=\"start\" x=\"341\" y=\"-7.8\" font-family=\"Helvetica,sans-Serif\" font-size=\"14.00\">Test Error Rate: 0.14</text>\n</g>\n<!-- 5&#45;&gt;6 -->\n<g id=\"edge6\" class=\"edge\">\n<title>5&#45;&gt;6</title>\n<path fill=\"none\" stroke=\"black\" d=\"M467.71,-88.97C458.91,-80.55 448,-70.1 437.67,-60.21\"/>\n<polygon fill=\"black\" stroke=\"black\" points=\"439.94,-57.54 430.3,-53.16 435.1,-62.6 439.94,-57.54\"/>\n</g>\n<!-- 7 -->\n<g id=\"node8\" class=\"node\">\n<title>7</title>\n<path fill=\"white\" stroke=\"black\" d=\"M630,-53C630,-53 507,-53 507,-53 501,-53 495,-47 495,-41 495,-41 495,-12 495,-12 495,-6 501,0 507,0 507,0 630,0 630,0 636,0 642,-6 642,-12 642,-12 642,-41 642,-41 642,-47 636,-53 630,-53\"/>\n<text text-anchor=\"start\" x=\"559.5\" y=\"-37.8\" font-family=\"Helvetica,sans-Serif\" font-size=\"14.00\">No</text>\n<text text-anchor=\"start\" x=\"503\" y=\"-22.8\" font-family=\"Helvetica,sans-Serif\" font-size=\"14.00\">Train Error Rate: 0.43</text>\n<text text-anchor=\"start\" x=\"506\" y=\"-7.8\" font-family=\"Helvetica,sans-Serif\" font-size=\"14.00\">Test Error Rate: 0.29</text>\n</g>\n<!-- 5&#45;&gt;7 -->\n<g id=\"edge7\" class=\"edge\">\n<title>5&#45;&gt;7</title>\n<path fill=\"none\" stroke=\"black\" d=\"M503.51,-88.97C512.41,-80.55 523.46,-70.1 533.91,-60.21\"/>\n<polygon fill=\"black\" stroke=\"black\" points=\"536.51,-62.57 541.37,-53.16 531.7,-57.48 536.51,-62.57\"/>\n</g>\n<!-- 9 -->\n<g id=\"node10\" class=\"node\">\n<title>9</title>\n<path fill=\"white\" stroke=\"black\" d=\"M861.5,-125C861.5,-125 769.5,-125 769.5,-125 763.5,-125 757.5,-119 757.5,-113 757.5,-113 757.5,-101 757.5,-101 757.5,-95 763.5,-89 769.5,-89 769.5,-89 861.5,-89 861.5,-89 867.5,-89 873.5,-95 873.5,-101 873.5,-101 873.5,-113 873.5,-113 873.5,-119 867.5,-125 861.5,-125\"/>\n<text text-anchor=\"start\" x=\"765.5\" y=\"-103.3\" font-family=\"Helvetica,sans-Serif\" font-size=\"14.00\">Glucose ≤ 146.5</text>\n</g>\n<!-- 8&#45;&gt;9 -->\n<g id=\"edge9\" class=\"edge\">\n<title>8&#45;&gt;9</title>\n<path fill=\"none\" stroke=\"black\" d=\"M815.5,-160.7C815.5,-152.98 815.5,-143.71 815.5,-135.11\"/>\n<polygon fill=\"black\" stroke=\"black\" points=\"819,-135.1 815.5,-125.1 812,-135.1 819,-135.1\"/>\n</g>\n<!-- 12 -->\n<g id=\"node13\" class=\"node\">\n<title>12</title>\n<path fill=\"white\" stroke=\"black\" d=\"M1109.5,-125C1109.5,-125 1017.5,-125 1017.5,-125 1011.5,-125 1005.5,-119 1005.5,-113 1005.5,-113 1005.5,-101 1005.5,-101 1005.5,-95 1011.5,-89 1017.5,-89 1017.5,-89 1109.5,-89 1109.5,-89 1115.5,-89 1121.5,-95 1121.5,-101 1121.5,-101 1121.5,-113 1121.5,-113 1121.5,-119 1115.5,-125 1109.5,-125\"/>\n<text text-anchor=\"start\" x=\"1013.5\" y=\"-103.3\" font-family=\"Helvetica,sans-Serif\" font-size=\"14.00\">Glucose ≤ 165.5</text>\n</g>\n<!-- 8&#45;&gt;12 -->\n<g id=\"edge12\" class=\"edge\">\n<title>8&#45;&gt;12</title>\n<path fill=\"none\" stroke=\"black\" d=\"M860.7,-165.24C898.42,-154.6 952.74,-139.26 995.68,-127.14\"/>\n<polygon fill=\"black\" stroke=\"black\" points=\"996.82,-130.46 1005.49,-124.37 994.91,-123.72 996.82,-130.46\"/>\n</g>\n<!-- 10 -->\n<g id=\"node11\" class=\"node\">\n<title>10</title>\n<path fill=\"red\" stroke=\"black\" d=\"M795,-53C795,-53 672,-53 672,-53 666,-53 660,-47 660,-41 660,-41 660,-12 660,-12 660,-6 666,0 672,0 672,0 795,0 795,0 801,0 807,-6 807,-12 807,-12 807,-41 807,-41 807,-47 801,-53 795,-53\"/>\n<text text-anchor=\"start\" x=\"724.5\" y=\"-37.8\" font-family=\"Helvetica,sans-Serif\" font-size=\"14.00\">No</text>\n<text text-anchor=\"start\" x=\"668\" y=\"-22.8\" font-family=\"Helvetica,sans-Serif\" font-size=\"14.00\">Train Error Rate: 0.14</text>\n<text text-anchor=\"start\" x=\"671\" y=\"-7.8\" font-family=\"Helvetica,sans-Serif\" font-size=\"14.00\">Test Error Rate: 0.33</text>\n</g>\n<!-- 9&#45;&gt;10 -->\n<g id=\"edge10\" class=\"edge\">\n<title>9&#45;&gt;10</title>\n<path fill=\"none\" stroke=\"black\" d=\"M797.71,-88.97C788.91,-80.55 778,-70.1 767.67,-60.21\"/>\n<polygon fill=\"black\" stroke=\"black\" points=\"769.94,-57.54 760.3,-53.16 765.1,-62.6 769.94,-57.54\"/>\n</g>\n<!-- 11 -->\n<g id=\"node12\" class=\"node\">\n<title>11</title>\n<path fill=\"red\" stroke=\"black\" d=\"M960,-53C960,-53 837,-53 837,-53 831,-53 825,-47 825,-41 825,-41 825,-12 825,-12 825,-6 831,0 837,0 837,0 960,0 960,0 966,0 972,-6 972,-12 972,-12 972,-41 972,-41 972,-47 966,-53 960,-53\"/>\n<text text-anchor=\"start\" x=\"887\" y=\"-37.8\" font-family=\"Helvetica,sans-Serif\" font-size=\"14.00\">Yes</text>\n<text text-anchor=\"start\" x=\"833\" y=\"-22.8\" font-family=\"Helvetica,sans-Serif\" font-size=\"14.00\">Train Error Rate: 0.44</text>\n<text text-anchor=\"start\" x=\"836\" y=\"-7.8\" font-family=\"Helvetica,sans-Serif\" font-size=\"14.00\">Test Error Rate: 0.67</text>\n</g>\n<!-- 9&#45;&gt;11 -->\n<g id=\"edge11\" class=\"edge\">\n<title>9&#45;&gt;11</title>\n<path fill=\"none\" stroke=\"black\" d=\"M833.51,-88.97C842.41,-80.55 853.46,-70.1 863.91,-60.21\"/>\n<polygon fill=\"black\" stroke=\"black\" points=\"866.51,-62.57 871.37,-53.16 861.7,-57.48 866.51,-62.57\"/>\n</g>\n<!-- 13 -->\n<g id=\"node14\" class=\"node\">\n<title>13</title>\n<path fill=\"white\" stroke=\"black\" d=\"M1125,-53C1125,-53 1002,-53 1002,-53 996,-53 990,-47 990,-41 990,-41 990,-12 990,-12 990,-6 996,0 1002,0 1002,0 1125,0 1125,0 1131,0 1137,-6 1137,-12 1137,-12 1137,-41 1137,-41 1137,-47 1131,-53 1125,-53\"/>\n<text text-anchor=\"start\" x=\"1052\" y=\"-37.8\" font-family=\"Helvetica,sans-Serif\" font-size=\"14.00\">Yes</text>\n<text text-anchor=\"start\" x=\"998\" y=\"-22.8\" font-family=\"Helvetica,sans-Serif\" font-size=\"14.00\">Train Error Rate: 0.37</text>\n<text text-anchor=\"start\" x=\"1001\" y=\"-7.8\" font-family=\"Helvetica,sans-Serif\" font-size=\"14.00\">Test Error Rate: 0.32</text>\n</g>\n<!-- 12&#45;&gt;13 -->\n<g id=\"edge13\" class=\"edge\">\n<title>12&#45;&gt;13</title>\n<path fill=\"none\" stroke=\"black\" d=\"M1063.5,-88.97C1063.5,-81.45 1063.5,-72.31 1063.5,-63.4\"/>\n<polygon fill=\"black\" stroke=\"black\" points=\"1067,-63.16 1063.5,-53.16 1060,-63.16 1067,-63.16\"/>\n</g>\n<!-- 14 -->\n<g id=\"node15\" class=\"node\">\n<title>14</title>\n<path fill=\"white\" stroke=\"black\" d=\"M1290,-53C1290,-53 1167,-53 1167,-53 1161,-53 1155,-47 1155,-41 1155,-41 1155,-12 1155,-12 1155,-6 1161,0 1167,0 1167,0 1290,0 1290,0 1296,0 1302,-6 1302,-12 1302,-12 1302,-41 1302,-41 1302,-47 1296,-53 1290,-53\"/>\n<text text-anchor=\"start\" x=\"1217\" y=\"-37.8\" font-family=\"Helvetica,sans-Serif\" font-size=\"14.00\">Yes</text>\n<text text-anchor=\"start\" x=\"1163\" y=\"-22.8\" font-family=\"Helvetica,sans-Serif\" font-size=\"14.00\">Train Error Rate: 0.09</text>\n<text text-anchor=\"start\" x=\"1166\" y=\"-7.8\" font-family=\"Helvetica,sans-Serif\" font-size=\"14.00\">Test Error Rate: 0.15</text>\n</g>\n<!-- 12&#45;&gt;14 -->\n<g id=\"edge14\" class=\"edge\">\n<title>12&#45;&gt;14</title>\n<path fill=\"none\" stroke=\"black\" d=\"M1099.3,-88.97C1118.71,-79.73 1143.26,-68.05 1165.74,-57.36\"/>\n<polygon fill=\"black\" stroke=\"black\" points=\"1167.37,-60.46 1174.89,-53 1164.36,-54.14 1167.37,-60.46\"/>\n</g>\n</g>\n</svg>\n",
            "text/plain": [
              "<graphviz.sources.Source at 0x7a9b094167d0>"
            ]
          },
          "metadata": {}
        }
      ]
    },
    {
      "cell_type": "code",
      "source": [
        "from tree_visualizer import visualize_decision_tree_with_sample_deviation"
      ],
      "metadata": {
        "id": "h2G1DgkHIxEs"
      },
      "execution_count": 24,
      "outputs": []
    },
    {
      "cell_type": "code",
      "source": [
        "dot, paths = visualize_decision_tree_with_sample_deviation(tree_model, X_test_diabetes, y_test_diabetes,feature_names=X_diabetes.columns.tolist(),class_names=['No', 'Yes'], max_error_rate=0.15)"
      ],
      "metadata": {
        "colab": {
          "base_uri": "https://localhost:8080/"
        },
        "id": "Xv-dsQHbI-tB",
        "outputId": "2b937da2-3e16-4177-f481-1b14bdc2d3d2"
      },
      "execution_count": 25,
      "outputs": [
        {
          "output_type": "stream",
          "name": "stdout",
          "text": [
            "leaf\n",
            "3 [label=<<br/>class = No>, fillcolor=\"#e5823b\"] ;\n",
            "leaf\n",
            "4 [label=<<br/>class = No>, fillcolor=\"#ea9a60\"] ;\n",
            "leaf\n",
            "6 [label=<<br/>class = No>, fillcolor=\"#e6853f\"] ;\n",
            "line_err\n",
            "6 [label=<No<br/>Train % of the total:5.54%<br/>Test % of the total:4.55%>, fillcolor=purple, original_fillcolor=\"#e6853f\"] ;\n",
            "leaf\n",
            "7 [label=<<br/>class = No>, fillcolor=\"#f9e0ce\"] ;\n",
            "leaf\n",
            "10 [label=<<br/>class = No>, fillcolor=\"#e99559\"] ;\n",
            "leaf\n",
            "11 [label=<<br/>class = Yes>, fillcolor=\"#d5eaf9\"] ;\n",
            "leaf\n",
            "13 [label=<<br/>class = Yes>, fillcolor=\"#add7f4\"] ;\n",
            "leaf\n",
            "14 [label=<<br/>class = Yes>, fillcolor=\"#4da7e8\"] ;\n",
            "before\n",
            "0 [label=<Glucose &le; 127.5<br/><br/><br/><br/>class = No>, fillcolor=\"#f3c4a2\"] ;\n",
            "after\n",
            "0 [label=<Glucose &le; 127.5>, fillcolor=\"#f3c4a2\"] ;\n",
            "before\n",
            "1 [label=<Age &le; 28.5<br/><br/><br/><br/>class = No>, fillcolor=\"#eb9f69\"] ;\n",
            "after\n",
            "1 [label=<Age &le; 28.5>, fillcolor=\"#eb9f69\"] ;\n",
            "before\n",
            "2 [label=<BMI &le; 30.95<br/><br/><br/><br/>class = No>, fillcolor=\"#e78c49\"] ;\n",
            "after\n",
            "2 [label=<BMI &le; 30.95>, fillcolor=\"#e78c49\"] ;\n",
            "before\n",
            "3 [label=<<br/><br/><br/>class = No>, fillcolor=\"#e5823b\"] ;\n",
            "leaf\n",
            "3 [label=<<br/>class = No>, fillcolor=\"#e5823b\"] ;\n",
            "before\n",
            "4 [label=<<br/><br/><br/>class = No>, fillcolor=\"#ea9a60\"] ;\n",
            "leaf\n",
            "4 [label=<<br/>class = No>, fillcolor=\"#ea9a60\"] ;\n",
            "before\n",
            "5 [label=<BMI &le; 26.35<br/><br/><br/><br/>class = No>, fillcolor=\"#f3c5a3\"] ;\n",
            "after\n",
            "5 [label=<BMI &le; 26.35>, fillcolor=\"#f3c5a3\"] ;\n",
            "before\n",
            "6 [label=<<br/><br/><br/>class = No>, fillcolor=\"#e6853f\"] ;\n",
            "leaf\n",
            "6 [label=<<br/>class = No>, fillcolor=\"#e6853f\"] ;\n",
            "before\n",
            "7 [label=<<br/><br/><br/>class = No>, fillcolor=\"#f9e0ce\"] ;\n",
            "leaf\n",
            "7 [label=<<br/>class = No>, fillcolor=\"#f9e0ce\"] ;\n",
            "before\n",
            "8 [label=<BMI &le; 29.95<br/><br/><br/><br/>class = Yes>, fillcolor=\"#b7dbf6\"] ;\n",
            "after\n",
            "8 [label=<BMI &le; 29.95>, fillcolor=\"#b7dbf6\"] ;\n",
            "before\n",
            "9 [label=<Glucose &le; 146.5<br/><br/><br/><br/>class = No>, fillcolor=\"#f1ba93\"] ;\n",
            "after\n",
            "9 [label=<Glucose &le; 146.5>, fillcolor=\"#f1ba93\"] ;\n",
            "before\n",
            "10 [label=<<br/><br/><br/>class = No>, fillcolor=\"#e99559\"] ;\n",
            "leaf\n",
            "10 [label=<<br/>class = No>, fillcolor=\"#e99559\"] ;\n",
            "before\n",
            "11 [label=<<br/><br/><br/>class = Yes>, fillcolor=\"#d5eaf9\"] ;\n",
            "leaf\n",
            "11 [label=<<br/>class = Yes>, fillcolor=\"#d5eaf9\"] ;\n",
            "before\n",
            "12 [label=<Glucose &le; 165.5<br/><br/><br/><br/>class = Yes>, fillcolor=\"#85c2ef\"] ;\n",
            "after\n",
            "12 [label=<Glucose &le; 165.5>, fillcolor=\"#85c2ef\"] ;\n",
            "before\n",
            "13 [label=<<br/><br/><br/>class = Yes>, fillcolor=\"#add7f4\"] ;\n",
            "leaf\n",
            "13 [label=<<br/>class = Yes>, fillcolor=\"#add7f4\"] ;\n",
            "before\n",
            "14 [label=<<br/><br/><br/>class = Yes>, fillcolor=\"#4da7e8\"] ;\n",
            "leaf\n",
            "14 [label=<<br/>class = Yes>, fillcolor=\"#4da7e8\"] ;\n"
          ]
        }
      ]
    },
    {
      "cell_type": "code",
      "source": [
        "graph = Source(dot)\n",
        "display(graph)"
      ],
      "metadata": {
        "colab": {
          "base_uri": "https://localhost:8080/",
          "height": 411
        },
        "id": "JbmvOx_aKE4p",
        "outputId": "fce12f78-48cf-4ffe-8634-5630089303de"
      },
      "execution_count": 26,
      "outputs": [
        {
          "output_type": "display_data",
          "data": {
            "image/svg+xml": "<?xml version=\"1.0\" encoding=\"UTF-8\" standalone=\"no\"?>\n<!DOCTYPE svg PUBLIC \"-//W3C//DTD SVG 1.1//EN\"\n \"http://www.w3.org/Graphics/SVG/1.1/DTD/svg11.dtd\">\n<!-- Generated by graphviz version 2.43.0 (0)\n -->\n<!-- Title: Tree Pages: 1 -->\n<svg width=\"1550pt\" height=\"277pt\"\n viewBox=\"0.00 0.00 1550.00 277.00\" xmlns=\"http://www.w3.org/2000/svg\" xmlns:xlink=\"http://www.w3.org/1999/xlink\">\n<g id=\"graph0\" class=\"graph\" transform=\"scale(1 1) rotate(0) translate(4 273)\">\n<title>Tree</title>\n<polygon fill=\"white\" stroke=\"transparent\" points=\"-4,4 -4,-273 1546,-273 1546,4 -4,4\"/>\n<!-- 0 -->\n<g id=\"node1\" class=\"node\">\n<title>0</title>\n<path fill=\"white\" stroke=\"black\" d=\"M822.5,-269C822.5,-269 730.5,-269 730.5,-269 724.5,-269 718.5,-263 718.5,-257 718.5,-257 718.5,-245 718.5,-245 718.5,-239 724.5,-233 730.5,-233 730.5,-233 822.5,-233 822.5,-233 828.5,-233 834.5,-239 834.5,-245 834.5,-245 834.5,-257 834.5,-257 834.5,-263 828.5,-269 822.5,-269\"/>\n<text text-anchor=\"start\" x=\"726.5\" y=\"-247.3\" font-family=\"Helvetica,sans-Serif\" font-size=\"14.00\">Glucose ≤ 127.5</text>\n</g>\n<!-- 1 -->\n<g id=\"node2\" class=\"node\">\n<title>1</title>\n<path fill=\"white\" stroke=\"black\" d=\"M610.5,-197C610.5,-197 552.5,-197 552.5,-197 546.5,-197 540.5,-191 540.5,-185 540.5,-185 540.5,-173 540.5,-173 540.5,-167 546.5,-161 552.5,-161 552.5,-161 610.5,-161 610.5,-161 616.5,-161 622.5,-167 622.5,-173 622.5,-173 622.5,-185 622.5,-185 622.5,-191 616.5,-197 610.5,-197\"/>\n<text text-anchor=\"start\" x=\"548.5\" y=\"-175.3\" font-family=\"Helvetica,sans-Serif\" font-size=\"14.00\">Age ≤ 28.5</text>\n</g>\n<!-- 0&#45;&gt;1 -->\n<g id=\"edge1\" class=\"edge\">\n<title>0&#45;&gt;1</title>\n<path fill=\"none\" stroke=\"black\" d=\"M728.8,-232.88C699.62,-222.4 662.32,-209.01 632.55,-198.33\"/>\n<polygon fill=\"black\" stroke=\"black\" points=\"633.36,-194.9 622.77,-194.81 630.99,-201.49 633.36,-194.9\"/>\n<text text-anchor=\"middle\" x=\"633.43\" y=\"-213.72\" font-family=\"Helvetica,sans-Serif\" font-size=\"14.00\">True</text>\n</g>\n<!-- 8 -->\n<g id=\"node9\" class=\"node\">\n<title>8</title>\n<path fill=\"white\" stroke=\"black\" d=\"M1002.5,-197C1002.5,-197 936.5,-197 936.5,-197 930.5,-197 924.5,-191 924.5,-185 924.5,-185 924.5,-173 924.5,-173 924.5,-167 930.5,-161 936.5,-161 936.5,-161 1002.5,-161 1002.5,-161 1008.5,-161 1014.5,-167 1014.5,-173 1014.5,-173 1014.5,-185 1014.5,-185 1014.5,-191 1008.5,-197 1002.5,-197\"/>\n<text text-anchor=\"start\" x=\"932.5\" y=\"-175.3\" font-family=\"Helvetica,sans-Serif\" font-size=\"14.00\">BMI ≤ 29.95</text>\n</g>\n<!-- 0&#45;&gt;8 -->\n<g id=\"edge8\" class=\"edge\">\n<title>0&#45;&gt;8</title>\n<path fill=\"none\" stroke=\"black\" d=\"M823.71,-232.88C851.29,-222.88 886.2,-210.21 914.94,-199.79\"/>\n<polygon fill=\"black\" stroke=\"black\" points=\"916.23,-203.05 924.43,-196.35 913.84,-196.46 916.23,-203.05\"/>\n<text text-anchor=\"middle\" x=\"913.84\" y=\"-215.29\" font-family=\"Helvetica,sans-Serif\" font-size=\"14.00\">False</text>\n</g>\n<!-- 2 -->\n<g id=\"node3\" class=\"node\">\n<title>2</title>\n<path fill=\"white\" stroke=\"black\" d=\"M322.5,-125C322.5,-125 256.5,-125 256.5,-125 250.5,-125 244.5,-119 244.5,-113 244.5,-113 244.5,-101 244.5,-101 244.5,-95 250.5,-89 256.5,-89 256.5,-89 322.5,-89 322.5,-89 328.5,-89 334.5,-95 334.5,-101 334.5,-101 334.5,-113 334.5,-113 334.5,-119 328.5,-125 322.5,-125\"/>\n<text text-anchor=\"start\" x=\"252.5\" y=\"-103.3\" font-family=\"Helvetica,sans-Serif\" font-size=\"14.00\">BMI ≤ 30.95</text>\n</g>\n<!-- 1&#45;&gt;2 -->\n<g id=\"edge2\" class=\"edge\">\n<title>1&#45;&gt;2</title>\n<path fill=\"none\" stroke=\"black\" d=\"M540.28,-168.12C489.12,-155.85 401.67,-134.89 344.74,-121.24\"/>\n<polygon fill=\"black\" stroke=\"black\" points=\"345.37,-117.79 334.83,-118.87 343.73,-124.6 345.37,-117.79\"/>\n</g>\n<!-- 5 -->\n<g id=\"node6\" class=\"node\">\n<title>5</title>\n<path fill=\"white\" stroke=\"black\" d=\"M614.5,-125C614.5,-125 548.5,-125 548.5,-125 542.5,-125 536.5,-119 536.5,-113 536.5,-113 536.5,-101 536.5,-101 536.5,-95 542.5,-89 548.5,-89 548.5,-89 614.5,-89 614.5,-89 620.5,-89 626.5,-95 626.5,-101 626.5,-101 626.5,-113 626.5,-113 626.5,-119 620.5,-125 614.5,-125\"/>\n<text text-anchor=\"start\" x=\"544.5\" y=\"-103.3\" font-family=\"Helvetica,sans-Serif\" font-size=\"14.00\">BMI ≤ 26.35</text>\n</g>\n<!-- 1&#45;&gt;5 -->\n<g id=\"edge5\" class=\"edge\">\n<title>1&#45;&gt;5</title>\n<path fill=\"none\" stroke=\"black\" d=\"M581.5,-160.7C581.5,-152.98 581.5,-143.71 581.5,-135.11\"/>\n<polygon fill=\"black\" stroke=\"black\" points=\"585,-135.1 581.5,-125.1 578,-135.1 585,-135.1\"/>\n</g>\n<!-- 3 -->\n<g id=\"node4\" class=\"node\">\n<title>3</title>\n<path fill=\"white\" stroke=\"black\" d=\"M169,-53C169,-53 12,-53 12,-53 6,-53 0,-47 0,-41 0,-41 0,-12 0,-12 0,-6 6,0 12,0 12,0 169,0 169,0 175,0 181,-6 181,-12 181,-12 181,-41 181,-41 181,-47 175,-53 169,-53\"/>\n<text text-anchor=\"start\" x=\"81.5\" y=\"-37.8\" font-family=\"Helvetica,sans-Serif\" font-size=\"14.00\">No</text>\n<text text-anchor=\"start\" x=\"8\" y=\"-22.8\" font-family=\"Helvetica,sans-Serif\" font-size=\"14.00\">Train % of the total:20.20%</text>\n<text text-anchor=\"start\" x=\"11\" y=\"-7.8\" font-family=\"Helvetica,sans-Serif\" font-size=\"14.00\">Test % of the total:17.53%</text>\n</g>\n<!-- 2&#45;&gt;3 -->\n<g id=\"edge3\" class=\"edge\">\n<title>2&#45;&gt;3</title>\n<path fill=\"none\" stroke=\"black\" d=\"M246.32,-88.97C222.49,-79.57 192.25,-67.64 164.75,-56.79\"/>\n<polygon fill=\"black\" stroke=\"black\" points=\"165.74,-53.42 155.15,-53 163.17,-59.93 165.74,-53.42\"/>\n</g>\n<!-- 4 -->\n<g id=\"node5\" class=\"node\">\n<title>4</title>\n<path fill=\"white\" stroke=\"black\" d=\"M368,-53C368,-53 211,-53 211,-53 205,-53 199,-47 199,-41 199,-41 199,-12 199,-12 199,-6 205,0 211,0 211,0 368,0 368,0 374,0 380,-6 380,-12 380,-12 380,-41 380,-41 380,-47 374,-53 368,-53\"/>\n<text text-anchor=\"start\" x=\"280.5\" y=\"-37.8\" font-family=\"Helvetica,sans-Serif\" font-size=\"14.00\">No</text>\n<text text-anchor=\"start\" x=\"207\" y=\"-22.8\" font-family=\"Helvetica,sans-Serif\" font-size=\"14.00\">Train % of the total:15.80%</text>\n<text text-anchor=\"start\" x=\"210\" y=\"-7.8\" font-family=\"Helvetica,sans-Serif\" font-size=\"14.00\">Test % of the total:14.94%</text>\n</g>\n<!-- 2&#45;&gt;4 -->\n<g id=\"edge4\" class=\"edge\">\n<title>2&#45;&gt;4</title>\n<path fill=\"none\" stroke=\"black\" d=\"M289.5,-88.97C289.5,-81.45 289.5,-72.31 289.5,-63.4\"/>\n<polygon fill=\"black\" stroke=\"black\" points=\"293,-63.16 289.5,-53.16 286,-63.16 293,-63.16\"/>\n</g>\n<!-- 6 -->\n<g id=\"node7\" class=\"node\">\n<title>6</title>\n<path fill=\"purple\" stroke=\"black\" d=\"M559,-53C559,-53 410,-53 410,-53 404,-53 398,-47 398,-41 398,-41 398,-12 398,-12 398,-6 404,0 410,0 410,0 559,0 559,0 565,0 571,-6 571,-12 571,-12 571,-41 571,-41 571,-47 565,-53 559,-53\"/>\n<text text-anchor=\"start\" x=\"475.5\" y=\"-37.8\" font-family=\"Helvetica,sans-Serif\" font-size=\"14.00\">No</text>\n<text text-anchor=\"start\" x=\"406\" y=\"-22.8\" font-family=\"Helvetica,sans-Serif\" font-size=\"14.00\">Train % of the total:5.54%</text>\n<text text-anchor=\"start\" x=\"409\" y=\"-7.8\" font-family=\"Helvetica,sans-Serif\" font-size=\"14.00\">Test % of the total:4.55%</text>\n</g>\n<!-- 5&#45;&gt;6 -->\n<g id=\"edge6\" class=\"edge\">\n<title>5&#45;&gt;6</title>\n<path fill=\"none\" stroke=\"black\" d=\"M560.45,-88.97C549.85,-80.38 536.63,-69.69 524.21,-59.64\"/>\n<polygon fill=\"black\" stroke=\"black\" points=\"526.18,-56.73 516.2,-53.16 521.77,-62.17 526.18,-56.73\"/>\n</g>\n<!-- 7 -->\n<g id=\"node8\" class=\"node\">\n<title>7</title>\n<path fill=\"white\" stroke=\"black\" d=\"M758,-53C758,-53 601,-53 601,-53 595,-53 589,-47 589,-41 589,-41 589,-12 589,-12 589,-6 595,0 601,0 601,0 758,0 758,0 764,0 770,-6 770,-12 770,-12 770,-41 770,-41 770,-47 764,-53 758,-53\"/>\n<text text-anchor=\"start\" x=\"670.5\" y=\"-37.8\" font-family=\"Helvetica,sans-Serif\" font-size=\"14.00\">No</text>\n<text text-anchor=\"start\" x=\"597\" y=\"-22.8\" font-family=\"Helvetica,sans-Serif\" font-size=\"14.00\">Train % of the total:21.99%</text>\n<text text-anchor=\"start\" x=\"600\" y=\"-7.8\" font-family=\"Helvetica,sans-Serif\" font-size=\"14.00\">Test % of the total:24.68%</text>\n</g>\n<!-- 5&#45;&gt;7 -->\n<g id=\"edge7\" class=\"edge\">\n<title>5&#45;&gt;7</title>\n<path fill=\"none\" stroke=\"black\" d=\"M602.76,-88.97C613.48,-80.38 626.83,-69.69 639.38,-59.64\"/>\n<polygon fill=\"black\" stroke=\"black\" points=\"641.85,-62.14 647.47,-53.16 637.48,-56.68 641.85,-62.14\"/>\n</g>\n<!-- 9 -->\n<g id=\"node10\" class=\"node\">\n<title>9</title>\n<path fill=\"white\" stroke=\"black\" d=\"M1015.5,-125C1015.5,-125 923.5,-125 923.5,-125 917.5,-125 911.5,-119 911.5,-113 911.5,-113 911.5,-101 911.5,-101 911.5,-95 917.5,-89 923.5,-89 923.5,-89 1015.5,-89 1015.5,-89 1021.5,-89 1027.5,-95 1027.5,-101 1027.5,-101 1027.5,-113 1027.5,-113 1027.5,-119 1021.5,-125 1015.5,-125\"/>\n<text text-anchor=\"start\" x=\"919.5\" y=\"-103.3\" font-family=\"Helvetica,sans-Serif\" font-size=\"14.00\">Glucose ≤ 146.5</text>\n</g>\n<!-- 8&#45;&gt;9 -->\n<g id=\"edge9\" class=\"edge\">\n<title>8&#45;&gt;9</title>\n<path fill=\"none\" stroke=\"black\" d=\"M969.5,-160.7C969.5,-152.98 969.5,-143.71 969.5,-135.11\"/>\n<polygon fill=\"black\" stroke=\"black\" points=\"973,-135.1 969.5,-125.1 966,-135.1 973,-135.1\"/>\n</g>\n<!-- 12 -->\n<g id=\"node13\" class=\"node\">\n<title>12</title>\n<path fill=\"white\" stroke=\"black\" d=\"M1306.5,-125C1306.5,-125 1214.5,-125 1214.5,-125 1208.5,-125 1202.5,-119 1202.5,-113 1202.5,-113 1202.5,-101 1202.5,-101 1202.5,-95 1208.5,-89 1214.5,-89 1214.5,-89 1306.5,-89 1306.5,-89 1312.5,-89 1318.5,-95 1318.5,-101 1318.5,-101 1318.5,-113 1318.5,-113 1318.5,-119 1312.5,-125 1306.5,-125\"/>\n<text text-anchor=\"start\" x=\"1210.5\" y=\"-103.3\" font-family=\"Helvetica,sans-Serif\" font-size=\"14.00\">Glucose ≤ 165.5</text>\n</g>\n<!-- 8&#45;&gt;12 -->\n<g id=\"edge12\" class=\"edge\">\n<title>8&#45;&gt;12</title>\n<path fill=\"none\" stroke=\"black\" d=\"M1014.65,-167.14C1062.22,-155.7 1137.68,-137.54 1192.46,-124.37\"/>\n<polygon fill=\"black\" stroke=\"black\" points=\"1193.54,-127.71 1202.44,-121.97 1191.9,-120.9 1193.54,-127.71\"/>\n</g>\n<!-- 10 -->\n<g id=\"node11\" class=\"node\">\n<title>10</title>\n<path fill=\"white\" stroke=\"black\" d=\"M949,-53C949,-53 800,-53 800,-53 794,-53 788,-47 788,-41 788,-41 788,-12 788,-12 788,-6 794,0 800,0 800,0 949,0 949,0 955,0 961,-6 961,-12 961,-12 961,-41 961,-41 961,-47 955,-53 949,-53\"/>\n<text text-anchor=\"start\" x=\"865.5\" y=\"-37.8\" font-family=\"Helvetica,sans-Serif\" font-size=\"14.00\">No</text>\n<text text-anchor=\"start\" x=\"796\" y=\"-22.8\" font-family=\"Helvetica,sans-Serif\" font-size=\"14.00\">Train % of the total:5.86%</text>\n<text text-anchor=\"start\" x=\"799\" y=\"-7.8\" font-family=\"Helvetica,sans-Serif\" font-size=\"14.00\">Test % of the total:5.84%</text>\n</g>\n<!-- 9&#45;&gt;10 -->\n<g id=\"edge10\" class=\"edge\">\n<title>9&#45;&gt;10</title>\n<path fill=\"none\" stroke=\"black\" d=\"M948.89,-88.97C938.5,-80.38 925.56,-69.69 913.4,-59.64\"/>\n<polygon fill=\"black\" stroke=\"black\" points=\"915.49,-56.83 905.55,-53.16 911.03,-62.22 915.49,-56.83\"/>\n</g>\n<!-- 11 -->\n<g id=\"node12\" class=\"node\">\n<title>11</title>\n<path fill=\"white\" stroke=\"black\" d=\"M1140,-53C1140,-53 991,-53 991,-53 985,-53 979,-47 979,-41 979,-41 979,-12 979,-12 979,-6 985,0 991,0 991,0 1140,0 1140,0 1146,0 1152,-6 1152,-12 1152,-12 1152,-41 1152,-41 1152,-47 1146,-53 1140,-53\"/>\n<text text-anchor=\"start\" x=\"1054\" y=\"-37.8\" font-family=\"Helvetica,sans-Serif\" font-size=\"14.00\">Yes</text>\n<text text-anchor=\"start\" x=\"987\" y=\"-22.8\" font-family=\"Helvetica,sans-Serif\" font-size=\"14.00\">Train % of the total:4.07%</text>\n<text text-anchor=\"start\" x=\"990\" y=\"-7.8\" font-family=\"Helvetica,sans-Serif\" font-size=\"14.00\">Test % of the total:3.90%</text>\n</g>\n<!-- 9&#45;&gt;11 -->\n<g id=\"edge11\" class=\"edge\">\n<title>9&#45;&gt;11</title>\n<path fill=\"none\" stroke=\"black\" d=\"M990.33,-88.97C1000.83,-80.38 1013.9,-69.69 1026.2,-59.64\"/>\n<polygon fill=\"black\" stroke=\"black\" points=\"1028.6,-62.2 1034.12,-53.16 1024.17,-56.78 1028.6,-62.2\"/>\n</g>\n<!-- 13 -->\n<g id=\"node14\" class=\"node\">\n<title>13</title>\n<path fill=\"white\" stroke=\"black\" d=\"M1339,-53C1339,-53 1182,-53 1182,-53 1176,-53 1170,-47 1170,-41 1170,-41 1170,-12 1170,-12 1170,-6 1176,0 1182,0 1182,0 1339,0 1339,0 1345,0 1351,-6 1351,-12 1351,-12 1351,-41 1351,-41 1351,-47 1345,-53 1339,-53\"/>\n<text text-anchor=\"start\" x=\"1249\" y=\"-37.8\" font-family=\"Helvetica,sans-Serif\" font-size=\"14.00\">Yes</text>\n<text text-anchor=\"start\" x=\"1178\" y=\"-22.8\" font-family=\"Helvetica,sans-Serif\" font-size=\"14.00\">Train % of the total:17.59%</text>\n<text text-anchor=\"start\" x=\"1181\" y=\"-7.8\" font-family=\"Helvetica,sans-Serif\" font-size=\"14.00\">Test % of the total:20.13%</text>\n</g>\n<!-- 12&#45;&gt;13 -->\n<g id=\"edge13\" class=\"edge\">\n<title>12&#45;&gt;13</title>\n<path fill=\"none\" stroke=\"black\" d=\"M1260.5,-88.97C1260.5,-81.45 1260.5,-72.31 1260.5,-63.4\"/>\n<polygon fill=\"black\" stroke=\"black\" points=\"1264,-63.16 1260.5,-53.16 1257,-63.16 1264,-63.16\"/>\n</g>\n<!-- 14 -->\n<g id=\"node15\" class=\"node\">\n<title>14</title>\n<path fill=\"white\" stroke=\"black\" d=\"M1530,-53C1530,-53 1381,-53 1381,-53 1375,-53 1369,-47 1369,-41 1369,-41 1369,-12 1369,-12 1369,-6 1375,0 1381,0 1381,0 1530,0 1530,0 1536,0 1542,-6 1542,-12 1542,-12 1542,-41 1542,-41 1542,-47 1536,-53 1530,-53\"/>\n<text text-anchor=\"start\" x=\"1444\" y=\"-37.8\" font-family=\"Helvetica,sans-Serif\" font-size=\"14.00\">Yes</text>\n<text text-anchor=\"start\" x=\"1377\" y=\"-22.8\" font-family=\"Helvetica,sans-Serif\" font-size=\"14.00\">Train % of the total:8.96%</text>\n<text text-anchor=\"start\" x=\"1380\" y=\"-7.8\" font-family=\"Helvetica,sans-Serif\" font-size=\"14.00\">Test % of the total:8.44%</text>\n</g>\n<!-- 12&#45;&gt;14 -->\n<g id=\"edge14\" class=\"edge\">\n<title>12&#45;&gt;14</title>\n<path fill=\"none\" stroke=\"black\" d=\"M1302.81,-88.97C1326.16,-79.57 1355.8,-67.64 1382.74,-56.79\"/>\n<polygon fill=\"black\" stroke=\"black\" points=\"1384.18,-59.99 1392.14,-53 1381.56,-53.49 1384.18,-59.99\"/>\n</g>\n</g>\n</svg>\n",
            "text/plain": [
              "<graphviz.sources.Source at 0x7a9ad2c9f5e0>"
            ]
          },
          "metadata": {}
        }
      ]
    }
  ]
}